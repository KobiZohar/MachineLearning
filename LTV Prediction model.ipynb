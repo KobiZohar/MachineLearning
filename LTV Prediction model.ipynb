{
 "cells": [
  {
   "cell_type": "code",
   "execution_count": 1,
   "metadata": {},
   "outputs": [],
   "source": [
    "import pandas as pd\n",
    "import numpy as np\n",
    "import datetime\n",
    "import matplotlib.pyplot as plt\n",
    "%matplotlib inline\n",
    "import seaborn as sns\n",
    "from sqlalchemy import create_engine\n",
    "from sqlalchemy.orm import sessionmaker\n",
    "import os\n",
    "from pmdarima.arima import auto_arima\n",
    "from statsmodels.tsa.arima_model import ARIMA\n",
    "from arch import arch_model\n",
    "import statsmodels.tsa.stattools as sts\n",
    "from pmdarima.arima import ADFTest\n",
    "from sklearn.metrics import r2_score\n",
    "from statsmodels.tsa.ar_model import AR\n",
    "pd.set_option('display.max_rows', None) \n",
    "pd.set_option('display.max_columns', None) \n",
    "import time\n",
    "from sklearn.model_selection import cross_val_score, GridSearchCV, KFold\n",
    "from sklearn.svm import SVC,SVR\n",
    "from sklearn.pipeline import Pipeline\n",
    "from sklearn.compose import ColumnTransformer\n",
    "from sklearn.decomposition import PCA\n",
    "from sklearn.cluster import KMeans, DBSCAN\n",
    "from sklearn.preprocessing import OneHotEncoder, MinMaxScaler,StandardScaler,Normalizer\n",
    "from sklearn.metrics import r2_score,mean_squared_error"
   ]
  },
  {
   "cell_type": "code",
   "execution_count": 2,
   "metadata": {},
   "outputs": [],
   "source": [
    "env='train'"
   ]
  },
  {
   "cell_type": "code",
   "execution_count": 3,
   "metadata": {},
   "outputs": [],
   "source": [
    "if env == 'test' :\n",
    "    train_action = pd.read_csv(r\"C:\\Users\\kobi_z\\Documents\\Data Science\\Simpool Projects\\test data\\test1_3.csv\")\n",
    "    train_deposits = pd.read_csv(r\"C:\\Users\\kobi_z\\Documents\\Data Science\\Simpool Projects\\test data\\test2_v2.csv\")\n",
    "    train_user_prop = pd.read_csv(r\"C:\\Users\\kobi_z\\Documents\\Data Science\\Simpool Projects\\test data\\test3_v2.csv\")\n",
    "if env == 'train':\n",
    "    train_action = pd.read_csv(r\"C:\\Users\\kobi_z\\Documents\\Data Science\\Simpool Projects\\Training data\\train1_3.csv\")\n",
    "    train_deposits = pd.read_csv(r\"C:\\Users\\kobi_z\\Documents\\Data Science\\Simpool Projects\\Training data\\train2_v2.csv\")\n",
    "    train_user_prop = pd.read_csv(r\"C:\\Users\\kobi_z\\Documents\\Data Science\\Simpool Projects\\Training data\\train3_v2.csv\")"
   ]
  },
  {
   "cell_type": "code",
   "execution_count": 4,
   "metadata": {},
   "outputs": [],
   "source": [
    "df_mid=pd.concat([train_action,train_deposits.rename(columns={'transaction_time':'placed_time','amount':'win_or_lose_amount','type':'settlement_status'})],ignore_index=False)\n",
    "df=pd.merge(left=df_mid,right=train_user_prop,left_on='user_id',right_on='user_id')"
   ]
  },
  {
   "cell_type": "code",
   "execution_count": 5,
   "metadata": {},
   "outputs": [
    {
     "data": {
      "text/html": [
       "<div>\n",
       "<style scoped>\n",
       "    .dataframe tbody tr th:only-of-type {\n",
       "        vertical-align: middle;\n",
       "    }\n",
       "\n",
       "    .dataframe tbody tr th {\n",
       "        vertical-align: top;\n",
       "    }\n",
       "\n",
       "    .dataframe thead th {\n",
       "        text-align: right;\n",
       "    }\n",
       "</style>\n",
       "<table border=\"1\" class=\"dataframe\">\n",
       "  <thead>\n",
       "    <tr style=\"text-align: right;\">\n",
       "      <th></th>\n",
       "      <th>user_id</th>\n",
       "      <th>placed_time</th>\n",
       "      <th>total_stake</th>\n",
       "      <th>bet_type</th>\n",
       "      <th>settlement_status</th>\n",
       "      <th>settlement_time</th>\n",
       "      <th>win_or_lose_amount</th>\n",
       "      <th>price</th>\n",
       "      <th>odd_count</th>\n",
       "      <th>currency</th>\n",
       "      <th>freebet_stake</th>\n",
       "      <th>odd_booster</th>\n",
       "      <th>source</th>\n",
       "      <th>campaign_name</th>\n",
       "      <th>registration_platform</th>\n",
       "      <th>registration_date</th>\n",
       "    </tr>\n",
       "  </thead>\n",
       "  <tbody>\n",
       "    <tr>\n",
       "      <th>0</th>\n",
       "      <td>521331</td>\n",
       "      <td>2019-12-01 00:08:32.000000</td>\n",
       "      <td>10.0</td>\n",
       "      <td>MULTIPLE</td>\n",
       "      <td>LOST</td>\n",
       "      <td>2019-12-01 13:29:10.000000</td>\n",
       "      <td>0.00</td>\n",
       "      <td>2.88927</td>\n",
       "      <td>3.0</td>\n",
       "      <td>GBP</td>\n",
       "      <td>0.0</td>\n",
       "      <td>0.0</td>\n",
       "      <td>Snapchat</td>\n",
       "      <td>bidalgo_SC-19/20(Cons-Eng)_IOS_Install_Install</td>\n",
       "      <td>IOS</td>\n",
       "      <td>01/12/2019</td>\n",
       "    </tr>\n",
       "    <tr>\n",
       "      <th>1</th>\n",
       "      <td>521331</td>\n",
       "      <td>2019-12-02 16:00:57.000000</td>\n",
       "      <td>0.0</td>\n",
       "      <td>MULTIPLE</td>\n",
       "      <td>LOST</td>\n",
       "      <td>2019-12-04 21:23:03.000000</td>\n",
       "      <td>0.00</td>\n",
       "      <td>18.80158</td>\n",
       "      <td>6.0</td>\n",
       "      <td>GBP</td>\n",
       "      <td>10.0</td>\n",
       "      <td>0.0</td>\n",
       "      <td>Snapchat</td>\n",
       "      <td>bidalgo_SC-19/20(Cons-Eng)_IOS_Install_Install</td>\n",
       "      <td>IOS</td>\n",
       "      <td>01/12/2019</td>\n",
       "    </tr>\n",
       "    <tr>\n",
       "      <th>2</th>\n",
       "      <td>521331</td>\n",
       "      <td>2019-12-02 23:07:10.000000</td>\n",
       "      <td>0.0</td>\n",
       "      <td>MULTIPLE</td>\n",
       "      <td>WON</td>\n",
       "      <td>2019-12-07 17:11:23.000000</td>\n",
       "      <td>22.46</td>\n",
       "      <td>3.24635</td>\n",
       "      <td>3.0</td>\n",
       "      <td>GBP</td>\n",
       "      <td>10.0</td>\n",
       "      <td>0.0</td>\n",
       "      <td>Snapchat</td>\n",
       "      <td>bidalgo_SC-19/20(Cons-Eng)_IOS_Install_Install</td>\n",
       "      <td>IOS</td>\n",
       "      <td>01/12/2019</td>\n",
       "    </tr>\n",
       "    <tr>\n",
       "      <th>3</th>\n",
       "      <td>521331</td>\n",
       "      <td>2019-12-06 10:33:53.000000</td>\n",
       "      <td>0.0</td>\n",
       "      <td>MULTIPLE</td>\n",
       "      <td>LOST</td>\n",
       "      <td>2019-12-07 21:43:35.000000</td>\n",
       "      <td>0.00</td>\n",
       "      <td>28.48877</td>\n",
       "      <td>6.0</td>\n",
       "      <td>GBP</td>\n",
       "      <td>10.0</td>\n",
       "      <td>0.0</td>\n",
       "      <td>Snapchat</td>\n",
       "      <td>bidalgo_SC-19/20(Cons-Eng)_IOS_Install_Install</td>\n",
       "      <td>IOS</td>\n",
       "      <td>01/12/2019</td>\n",
       "    </tr>\n",
       "    <tr>\n",
       "      <th>4</th>\n",
       "      <td>521331</td>\n",
       "      <td>2019-12-24 17:38:12.000000</td>\n",
       "      <td>0.0</td>\n",
       "      <td>MULTIPLE</td>\n",
       "      <td>LOST</td>\n",
       "      <td>2019-12-26 16:59:42.000000</td>\n",
       "      <td>0.00</td>\n",
       "      <td>16.29976</td>\n",
       "      <td>4.0</td>\n",
       "      <td>GBP</td>\n",
       "      <td>1.0</td>\n",
       "      <td>0.0</td>\n",
       "      <td>Snapchat</td>\n",
       "      <td>bidalgo_SC-19/20(Cons-Eng)_IOS_Install_Install</td>\n",
       "      <td>IOS</td>\n",
       "      <td>01/12/2019</td>\n",
       "    </tr>\n",
       "  </tbody>\n",
       "</table>\n",
       "</div>"
      ],
      "text/plain": [
       "   user_id                 placed_time  total_stake  bet_type  \\\n",
       "0   521331  2019-12-01 00:08:32.000000         10.0  MULTIPLE   \n",
       "1   521331  2019-12-02 16:00:57.000000          0.0  MULTIPLE   \n",
       "2   521331  2019-12-02 23:07:10.000000          0.0  MULTIPLE   \n",
       "3   521331  2019-12-06 10:33:53.000000          0.0  MULTIPLE   \n",
       "4   521331  2019-12-24 17:38:12.000000          0.0  MULTIPLE   \n",
       "\n",
       "  settlement_status             settlement_time  win_or_lose_amount     price  \\\n",
       "0              LOST  2019-12-01 13:29:10.000000                0.00   2.88927   \n",
       "1              LOST  2019-12-04 21:23:03.000000                0.00  18.80158   \n",
       "2               WON  2019-12-07 17:11:23.000000               22.46   3.24635   \n",
       "3              LOST  2019-12-07 21:43:35.000000                0.00  28.48877   \n",
       "4              LOST  2019-12-26 16:59:42.000000                0.00  16.29976   \n",
       "\n",
       "   odd_count currency  freebet_stake  odd_booster    source  \\\n",
       "0        3.0      GBP            0.0          0.0  Snapchat   \n",
       "1        6.0      GBP           10.0          0.0  Snapchat   \n",
       "2        3.0      GBP           10.0          0.0  Snapchat   \n",
       "3        6.0      GBP           10.0          0.0  Snapchat   \n",
       "4        4.0      GBP            1.0          0.0  Snapchat   \n",
       "\n",
       "                                    campaign_name registration_platform  \\\n",
       "0  bidalgo_SC-19/20(Cons-Eng)_IOS_Install_Install                   IOS   \n",
       "1  bidalgo_SC-19/20(Cons-Eng)_IOS_Install_Install                   IOS   \n",
       "2  bidalgo_SC-19/20(Cons-Eng)_IOS_Install_Install                   IOS   \n",
       "3  bidalgo_SC-19/20(Cons-Eng)_IOS_Install_Install                   IOS   \n",
       "4  bidalgo_SC-19/20(Cons-Eng)_IOS_Install_Install                   IOS   \n",
       "\n",
       "  registration_date  \n",
       "0        01/12/2019  \n",
       "1        01/12/2019  \n",
       "2        01/12/2019  \n",
       "3        01/12/2019  \n",
       "4        01/12/2019  "
      ]
     },
     "execution_count": 5,
     "metadata": {},
     "output_type": "execute_result"
    }
   ],
   "source": [
    "df.head()"
   ]
  },
  {
   "cell_type": "code",
   "execution_count": 6,
   "metadata": {},
   "outputs": [],
   "source": [
    "df.placed_time=pd.to_datetime(df.placed_time,dayfirst=True)\n",
    "df.settlement_time=pd.to_datetime(df.settlement_time,dayfirst=True)"
   ]
  },
  {
   "cell_type": "code",
   "execution_count": 7,
   "metadata": {},
   "outputs": [],
   "source": [
    "first_activity=df.groupby('user_id')['placed_time'].min()\n",
    "df=pd.merge(df,first_activity,left_on='user_id',right_on='user_id',how='left')"
   ]
  },
  {
   "cell_type": "code",
   "execution_count": 8,
   "metadata": {},
   "outputs": [
    {
     "data": {
      "text/html": [
       "<div>\n",
       "<style scoped>\n",
       "    .dataframe tbody tr th:only-of-type {\n",
       "        vertical-align: middle;\n",
       "    }\n",
       "\n",
       "    .dataframe tbody tr th {\n",
       "        vertical-align: top;\n",
       "    }\n",
       "\n",
       "    .dataframe thead th {\n",
       "        text-align: right;\n",
       "    }\n",
       "</style>\n",
       "<table border=\"1\" class=\"dataframe\">\n",
       "  <thead>\n",
       "    <tr style=\"text-align: right;\">\n",
       "      <th></th>\n",
       "      <th>user_id</th>\n",
       "      <th>placed_time</th>\n",
       "      <th>total_stake</th>\n",
       "      <th>bet_type</th>\n",
       "      <th>settlement_status</th>\n",
       "      <th>settlement_time</th>\n",
       "      <th>win_or_lose_amount</th>\n",
       "      <th>price</th>\n",
       "      <th>odd_count</th>\n",
       "      <th>currency</th>\n",
       "      <th>freebet_stake</th>\n",
       "      <th>odd_booster</th>\n",
       "      <th>source</th>\n",
       "      <th>campaign_name</th>\n",
       "      <th>registration_platform</th>\n",
       "      <th>registration_date</th>\n",
       "      <th>min_date</th>\n",
       "    </tr>\n",
       "  </thead>\n",
       "  <tbody>\n",
       "    <tr>\n",
       "      <th>0</th>\n",
       "      <td>521331</td>\n",
       "      <td>2019-12-01 00:08:32</td>\n",
       "      <td>10.0</td>\n",
       "      <td>MULTIPLE</td>\n",
       "      <td>LOST</td>\n",
       "      <td>2019-12-01 13:29:10</td>\n",
       "      <td>0.00</td>\n",
       "      <td>2.88927</td>\n",
       "      <td>3.0</td>\n",
       "      <td>GBP</td>\n",
       "      <td>0.0</td>\n",
       "      <td>0.0</td>\n",
       "      <td>Snapchat</td>\n",
       "      <td>bidalgo_SC-19/20(Cons-Eng)_IOS_Install_Install</td>\n",
       "      <td>IOS</td>\n",
       "      <td>01/12/2019</td>\n",
       "      <td>2019-12-01 00:08:32</td>\n",
       "    </tr>\n",
       "    <tr>\n",
       "      <th>1</th>\n",
       "      <td>521331</td>\n",
       "      <td>2019-12-02 16:00:57</td>\n",
       "      <td>0.0</td>\n",
       "      <td>MULTIPLE</td>\n",
       "      <td>LOST</td>\n",
       "      <td>2019-12-04 21:23:03</td>\n",
       "      <td>0.00</td>\n",
       "      <td>18.80158</td>\n",
       "      <td>6.0</td>\n",
       "      <td>GBP</td>\n",
       "      <td>10.0</td>\n",
       "      <td>0.0</td>\n",
       "      <td>Snapchat</td>\n",
       "      <td>bidalgo_SC-19/20(Cons-Eng)_IOS_Install_Install</td>\n",
       "      <td>IOS</td>\n",
       "      <td>01/12/2019</td>\n",
       "      <td>2019-12-01 00:08:32</td>\n",
       "    </tr>\n",
       "    <tr>\n",
       "      <th>2</th>\n",
       "      <td>521331</td>\n",
       "      <td>2019-12-02 23:07:10</td>\n",
       "      <td>0.0</td>\n",
       "      <td>MULTIPLE</td>\n",
       "      <td>WON</td>\n",
       "      <td>2019-12-07 17:11:23</td>\n",
       "      <td>22.46</td>\n",
       "      <td>3.24635</td>\n",
       "      <td>3.0</td>\n",
       "      <td>GBP</td>\n",
       "      <td>10.0</td>\n",
       "      <td>0.0</td>\n",
       "      <td>Snapchat</td>\n",
       "      <td>bidalgo_SC-19/20(Cons-Eng)_IOS_Install_Install</td>\n",
       "      <td>IOS</td>\n",
       "      <td>01/12/2019</td>\n",
       "      <td>2019-12-01 00:08:32</td>\n",
       "    </tr>\n",
       "    <tr>\n",
       "      <th>3</th>\n",
       "      <td>521331</td>\n",
       "      <td>2019-12-06 10:33:53</td>\n",
       "      <td>0.0</td>\n",
       "      <td>MULTIPLE</td>\n",
       "      <td>LOST</td>\n",
       "      <td>2019-12-07 21:43:35</td>\n",
       "      <td>0.00</td>\n",
       "      <td>28.48877</td>\n",
       "      <td>6.0</td>\n",
       "      <td>GBP</td>\n",
       "      <td>10.0</td>\n",
       "      <td>0.0</td>\n",
       "      <td>Snapchat</td>\n",
       "      <td>bidalgo_SC-19/20(Cons-Eng)_IOS_Install_Install</td>\n",
       "      <td>IOS</td>\n",
       "      <td>01/12/2019</td>\n",
       "      <td>2019-12-01 00:08:32</td>\n",
       "    </tr>\n",
       "    <tr>\n",
       "      <th>4</th>\n",
       "      <td>521331</td>\n",
       "      <td>2019-12-24 17:38:12</td>\n",
       "      <td>0.0</td>\n",
       "      <td>MULTIPLE</td>\n",
       "      <td>LOST</td>\n",
       "      <td>2019-12-26 16:59:42</td>\n",
       "      <td>0.00</td>\n",
       "      <td>16.29976</td>\n",
       "      <td>4.0</td>\n",
       "      <td>GBP</td>\n",
       "      <td>1.0</td>\n",
       "      <td>0.0</td>\n",
       "      <td>Snapchat</td>\n",
       "      <td>bidalgo_SC-19/20(Cons-Eng)_IOS_Install_Install</td>\n",
       "      <td>IOS</td>\n",
       "      <td>01/12/2019</td>\n",
       "      <td>2019-12-01 00:08:32</td>\n",
       "    </tr>\n",
       "  </tbody>\n",
       "</table>\n",
       "</div>"
      ],
      "text/plain": [
       "   user_id         placed_time  total_stake  bet_type settlement_status  \\\n",
       "0   521331 2019-12-01 00:08:32         10.0  MULTIPLE              LOST   \n",
       "1   521331 2019-12-02 16:00:57          0.0  MULTIPLE              LOST   \n",
       "2   521331 2019-12-02 23:07:10          0.0  MULTIPLE               WON   \n",
       "3   521331 2019-12-06 10:33:53          0.0  MULTIPLE              LOST   \n",
       "4   521331 2019-12-24 17:38:12          0.0  MULTIPLE              LOST   \n",
       "\n",
       "      settlement_time  win_or_lose_amount     price  odd_count currency  \\\n",
       "0 2019-12-01 13:29:10                0.00   2.88927        3.0      GBP   \n",
       "1 2019-12-04 21:23:03                0.00  18.80158        6.0      GBP   \n",
       "2 2019-12-07 17:11:23               22.46   3.24635        3.0      GBP   \n",
       "3 2019-12-07 21:43:35                0.00  28.48877        6.0      GBP   \n",
       "4 2019-12-26 16:59:42                0.00  16.29976        4.0      GBP   \n",
       "\n",
       "   freebet_stake  odd_booster    source  \\\n",
       "0            0.0          0.0  Snapchat   \n",
       "1           10.0          0.0  Snapchat   \n",
       "2           10.0          0.0  Snapchat   \n",
       "3           10.0          0.0  Snapchat   \n",
       "4            1.0          0.0  Snapchat   \n",
       "\n",
       "                                    campaign_name registration_platform  \\\n",
       "0  bidalgo_SC-19/20(Cons-Eng)_IOS_Install_Install                   IOS   \n",
       "1  bidalgo_SC-19/20(Cons-Eng)_IOS_Install_Install                   IOS   \n",
       "2  bidalgo_SC-19/20(Cons-Eng)_IOS_Install_Install                   IOS   \n",
       "3  bidalgo_SC-19/20(Cons-Eng)_IOS_Install_Install                   IOS   \n",
       "4  bidalgo_SC-19/20(Cons-Eng)_IOS_Install_Install                   IOS   \n",
       "\n",
       "  registration_date            min_date  \n",
       "0        01/12/2019 2019-12-01 00:08:32  \n",
       "1        01/12/2019 2019-12-01 00:08:32  \n",
       "2        01/12/2019 2019-12-01 00:08:32  \n",
       "3        01/12/2019 2019-12-01 00:08:32  \n",
       "4        01/12/2019 2019-12-01 00:08:32  "
      ]
     },
     "execution_count": 8,
     "metadata": {},
     "output_type": "execute_result"
    }
   ],
   "source": [
    "df=df.rename(columns={'placed_time_y':'min_date','placed_time_x':'placed_time'})\n",
    "df.head()"
   ]
  },
  {
   "cell_type": "code",
   "execution_count": 9,
   "metadata": {},
   "outputs": [],
   "source": [
    "df['seniority']=df['placed_time']-df['min_date']"
   ]
  },
  {
   "cell_type": "code",
   "execution_count": 10,
   "metadata": {},
   "outputs": [],
   "source": [
    "player_char=[]\n",
    "for user in df['user_id'].unique():\n",
    "    df_user=df[df['user_id']==user]\n",
    "    df_user_bets=df_user[(df_user['settlement_status']!='DEPOSIT')&(df_user['settlement_status']!='WITHDRAWAL')]\n",
    "    num_of_bets=df_user[df_user['total_stake']>0].shape[0]\n",
    "    num_of_free_bets=df_user[df_user['freebet_stake']>0].shape[0]\n",
    "    num_of_win_bets=df_user_bets[df_user_bets['settlement_status']=='WON'].shape[0]\n",
    "    win_bets_amount=df_user_bets[df_user_bets['settlement_status']=='WON']['win_or_lose_amount'].sum()\n",
    "    num_of_lost_bets=df_user_bets[df_user_bets['settlement_status']=='LOST'].shape[0]\n",
    "    lost_bets_amount=df_user_bets[df_user_bets['settlement_status']=='LOST']['total_stake'].sum()+df_user_bets[df_user_bets['settlement_status']=='LOST']['freebet_stake'].sum()\n",
    "    deposite_amount=df_user[df_user['settlement_status']=='DEPOSIT']['win_or_lose_amount'].sum()\n",
    "    withdrawal_amount=df_user[df_user['settlement_status']=='WITHDRAWAL']['win_or_lose_amount'].sum()\n",
    "    num_bet_days=df_user_bets['placed_time'].dt.date.unique().shape[0]\n",
    "    first2last_days_bet=(df_user_bets['placed_time'].max()-df_user_bets['placed_time'].min()).days\n",
    "    odd_count=df_user_bets['odd_count'].median()\n",
    "    odd_boost=df_user_bets['odd_booster'].median()\n",
    "    seniority=df_user['seniority'].max().days\n",
    "    GGR=df_user[df_user['settlement_status']=='DEPOSIT']['win_or_lose_amount'].sum()-df_user[df_user['settlement_status']=='WITHDRAWAL']['win_or_lose_amount'].sum()\n",
    "    NGR=GGR-df_user_bets['freebet_stake'].sum()\n",
    "    Stake_ratio=0.14*df_user_bets['total_stake'].sum()\n",
    "    player_char.append([user,num_of_bets,num_of_free_bets,num_of_win_bets,win_bets_amount,num_of_lost_bets,lost_bets_amount,deposite_amount,withdrawal_amount,num_bet_days,first2last_days_bet,odd_count,odd_boost,seniority,GGR,NGR,Stake_ratio])"
   ]
  },
  {
   "cell_type": "code",
   "execution_count": 11,
   "metadata": {},
   "outputs": [],
   "source": [
    "player_char_df=pd.DataFrame(player_char)\n",
    "player_char_df.columns=['user','num_of_bets','num_of_free_bets','num_of_win_bets','win_bets_amount','num_of_lost_bets','lost_bets_amount','deposite_amount','withdrawal_amount','num_bet_days','first2last_days_bet','odd_count','odd_boost','seniority','GGR','NGR','Stake_ratio']"
   ]
  },
  {
   "cell_type": "code",
   "execution_count": 12,
   "metadata": {},
   "outputs": [
    {
     "data": {
      "text/plain": [
       "(5000, 17)"
      ]
     },
     "execution_count": 12,
     "metadata": {},
     "output_type": "execute_result"
    }
   ],
   "source": [
    "player_char_df.shape"
   ]
  },
  {
   "cell_type": "markdown",
   "metadata": {},
   "source": [
    "# Extracting Features for df_train"
   ]
  },
  {
   "cell_type": "code",
   "execution_count": 13,
   "metadata": {},
   "outputs": [],
   "source": [
    "df_train=pd.DataFrame([])\n",
    "excluded_users=[]\n",
    "for user in df['user_id'].unique():\n",
    "    try:\n",
    "        user_start_date=df[(df['settlement_status']=='DEPOSIT')&(df['user_id']==user)].sort_values(by='placed_time',ascending=True).reset_index()['placed_time'][0]\n",
    "        user_end_date=user_start_date+datetime.timedelta(days=21)\n",
    "        df_user=df[(df['placed_time']>=user_start_date)&(df['placed_time']<=user_end_date)&(df['user_id']==user)]\n",
    "        df_train=pd.concat([df_train,df_user])\n",
    "    except:\n",
    "        IndexError\n",
    "        excluded_users.append([user,'No Deposit Found'])\n"
   ]
  },
  {
   "cell_type": "code",
   "execution_count": 14,
   "metadata": {},
   "outputs": [],
   "source": [
    "#df_train.to_csv(r'C:\\Users\\kobi_z\\Documents\\Data Science\\Simpool Projects\\Training data\\df_train_test.csv')"
   ]
  },
  {
   "cell_type": "code",
   "execution_count": 15,
   "metadata": {},
   "outputs": [
    {
     "data": {
      "text/plain": [
       "2637"
      ]
     },
     "execution_count": 15,
     "metadata": {},
     "output_type": "execute_result"
    }
   ],
   "source": [
    "len(df_train['user_id'].unique())"
   ]
  },
  {
   "cell_type": "code",
   "execution_count": 16,
   "metadata": {},
   "outputs": [],
   "source": [
    "#df_train=pd.read_csv(r'C:\\Users\\kobi_z\\Documents\\Data Science\\Simpool Projects\\Training data\\df_train.csv',encoding='ISO8859-1')"
   ]
  },
  {
   "cell_type": "code",
   "execution_count": 17,
   "metadata": {},
   "outputs": [
    {
     "data": {
      "text/plain": [
       "2363"
      ]
     },
     "execution_count": 17,
     "metadata": {},
     "output_type": "execute_result"
    }
   ],
   "source": [
    "user_wo_deposit=len(excluded_users)\n",
    "user_wo_deposit"
   ]
  },
  {
   "cell_type": "code",
   "execution_count": 18,
   "metadata": {},
   "outputs": [],
   "source": [
    "for user in df['user_id'].unique():\n",
    "    withdrawal=df[(df['user_id']==user)&(df['settlement_status']=='WITHDRAWAL')]['win_or_lose_amount'].sum()\n",
    "    deposit=df[(df['user_id']==user)&(df['settlement_status']=='DEPOSIT')]['win_or_lose_amount'].sum()\n",
    "    win=df[(df['user_id']==user)&(df['settlement_status']=='WON')]['win_or_lose_amount'].sum()\n",
    "    lost=df[(df['user_id']==user)&(df['settlement_status']=='LOST')]['win_or_lose_amount'].sum()\n",
    "\n",
    "    if (withdrawal+lost>win+deposit):\n",
    "        excluded_users.append([user,'Withdrawal greater than sum of wins'])\n",
    "    else:\n",
    "        pass"
   ]
  },
  {
   "cell_type": "code",
   "execution_count": 19,
   "metadata": {},
   "outputs": [],
   "source": [
    "df_ex=pd.DataFrame(excluded_users)\n",
    "df_ex.columns=['user','comment']"
   ]
  },
  {
   "cell_type": "code",
   "execution_count": 20,
   "metadata": {},
   "outputs": [
    {
     "data": {
      "text/plain": [
       "372"
      ]
     },
     "execution_count": 20,
     "metadata": {},
     "output_type": "execute_result"
    }
   ],
   "source": [
    "num_of_high_withdrawal=df_ex[df_ex['comment']=='Withdrawal greater than sum of wins'].shape[0]\n",
    "num_of_high_withdrawal"
   ]
  },
  {
   "cell_type": "code",
   "execution_count": 21,
   "metadata": {},
   "outputs": [],
   "source": [
    "player_char_train=[]\n",
    "for user in df_train['user_id'].unique():\n",
    "    df_user=df_train[df_train['user_id']==user]\n",
    "    df_user_bets=df_user[(df_user['settlement_status']!='DEPOSIT')&(df_user['settlement_status']!='WITHDRAWAL')]\n",
    "    num_of_bets=df_user[df_user['total_stake']>0].shape[0]\n",
    "    num_of_free_bets=df_user[df_user['freebet_stake']>0].shape[0]\n",
    "    num_of_win_bets=df_user_bets[df_user_bets['settlement_status']=='WON'].shape[0]\n",
    "    win_bets_amount=df_user_bets[df_user_bets['settlement_status']=='WON']['win_or_lose_amount'].sum()\n",
    "    num_of_lost_bets=df_user_bets[df_user_bets['settlement_status']=='LOST'].shape[0]\n",
    "    lost_bets_amount=df_user_bets[df_user_bets['settlement_status']=='LOST']['total_stake'].sum()+df_user_bets[df_user_bets['settlement_status']=='LOST']['freebet_stake'].sum()\n",
    "    deposite_amount=df_user[df_user['settlement_status']=='DEPOSIT']['win_or_lose_amount'].sum()\n",
    "    withdrawal_amount=df_user[df_user['settlement_status']=='WITHDRAWAL']['win_or_lose_amount'].sum()\n",
    "    num_bet_days=df_user_bets['placed_time'].dt.date.unique().shape[0]\n",
    "    first2last_days_bet=(df_user_bets['placed_time'].max()-df_user_bets['placed_time'].min()).days\n",
    "    odd_count=df_user_bets['odd_count'].median()\n",
    "    odd_boost=round(df_user_bets['odd_booster'].median(),1)\n",
    "    seniority=df_user['seniority'].max().days\n",
    "    GGR=df_user[df_user['settlement_status']=='DEPOSIT']['win_or_lose_amount'].sum()-df_user[df_user['settlement_status']=='WITHDRAWAL']['win_or_lose_amount'].sum()\n",
    "    NGR=GGR-df_user_bets['freebet_stake'].sum()\n",
    "    Stake_ratio=0.14*df_user_bets['total_stake'].sum()\n",
    "    player_char_train.append([user,num_of_bets,num_of_free_bets,num_of_win_bets,win_bets_amount,num_of_lost_bets,lost_bets_amount,deposite_amount,withdrawal_amount,num_bet_days,first2last_days_bet,odd_count,odd_boost,seniority,GGR,NGR,Stake_ratio])"
   ]
  },
  {
   "cell_type": "code",
   "execution_count": 22,
   "metadata": {},
   "outputs": [],
   "source": [
    "player_char_df_train=pd.DataFrame(player_char_train)\n",
    "player_char_df_train.columns=['user','num_of_bets','num_of_free_bets','num_of_win_bets','win_bets_amount','num_of_lost_bets','lost_bets_amount','deposite_amount','withdrawal_amount','num_bet_days','first2last_days_bet','odd_count','odd_boost','seniority','GGR','NGR','Stake_ratio']"
   ]
  },
  {
   "cell_type": "code",
   "execution_count": null,
   "metadata": {},
   "outputs": [],
   "source": [
    "#Test"
   ]
  },
  {
   "cell_type": "code",
   "execution_count": 81,
   "metadata": {},
   "outputs": [
    {
     "name": "stderr",
     "output_type": "stream",
     "text": [
      "C:\\Users\\kobi_z\\Anaconda3\\lib\\site-packages\\ipykernel_launcher.py:2: SettingWithCopyWarning: \n",
      "A value is trying to be set on a copy of a slice from a DataFrame.\n",
      "Try using .loc[row_indexer,col_indexer] = value instead\n",
      "\n",
      "See the caveats in the documentation: https://pandas.pydata.org/pandas-docs/stable/user_guide/indexing.html#returning-a-view-versus-a-copy\n",
      "  \n"
     ]
    },
    {
     "data": {
      "text/plain": [
       "date\n",
       "2019-12-04    11.80\n",
       "2019-12-05     6.80\n",
       "2019-12-06     0.00\n",
       "2019-12-07     0.00\n",
       "2019-12-08     0.00\n",
       "2019-12-09     9.04\n",
       "Freq: D, Name: win_or_lose_amount, dtype: float64"
      ]
     },
     "execution_count": 81,
     "metadata": {},
     "output_type": "execute_result"
    }
   ],
   "source": [
    "test=df_train[(df_train['user_id']==521352)&(df_train['bet_type']=='MULTIPLE')]\n",
    "test['date']=test['placed_time'].dt.date\n",
    "test=test.set_index('date')\n",
    "#test=test.asfreq('d')\n",
    "test1=test.groupby('date')['win_or_lose_amount'].sum()\n",
    "test1=test1.asfreq('d').fillna(0)\n",
    "test1"
   ]
  },
  {
   "cell_type": "code",
   "execution_count": 82,
   "metadata": {},
   "outputs": [],
   "source": [
    "start_date=test1.index[0]\n",
    "end_date=start_date+datetime.timedelta(days=21)\n"
   ]
  },
  {
   "cell_type": "code",
   "execution_count": 84,
   "metadata": {},
   "outputs": [],
   "source": [
    "test1.loc[end_date]=np.nan"
   ]
  },
  {
   "cell_type": "code",
   "execution_count": 90,
   "metadata": {},
   "outputs": [
    {
     "data": {
      "text/plain": [
       "Timestamp('2019-12-04 00:00:00')"
      ]
     },
     "execution_count": 90,
     "metadata": {},
     "output_type": "execute_result"
    }
   ],
   "source": [
    "test1.index[0]"
   ]
  },
  {
   "cell_type": "code",
   "execution_count": 79,
   "metadata": {},
   "outputs": [],
   "source": [
    "L = 21-test1.shape[0]\n",
    "i=0\n",
    "while i<=L:\n",
    "    i+=1\n",
    "    last_date = test1.index[-1] + pd.Timedelta(days=1)\n",
    "    test1.loc[last_date]=0"
   ]
  },
  {
   "cell_type": "code",
   "execution_count": 80,
   "metadata": {},
   "outputs": [
    {
     "data": {
      "text/plain": [
       "date\n",
       "2019-12-04    11.80\n",
       "2019-12-05     6.80\n",
       "2019-12-06     0.00\n",
       "2019-12-07     0.00\n",
       "2019-12-08     0.00\n",
       "2019-12-09     9.04\n",
       "2019-12-10     0.00\n",
       "2019-12-11     0.00\n",
       "2019-12-12     0.00\n",
       "2019-12-13     0.00\n",
       "2019-12-14     0.00\n",
       "2019-12-15     0.00\n",
       "2019-12-16     0.00\n",
       "2019-12-17     0.00\n",
       "2019-12-18     0.00\n",
       "2019-12-19     0.00\n",
       "2019-12-20     0.00\n",
       "2019-12-21     0.00\n",
       "2019-12-22     0.00\n",
       "2019-12-23     0.00\n",
       "2019-12-24     0.00\n",
       "2019-12-25     0.00\n",
       "Freq: D, Name: win_or_lose_amount, dtype: float64"
      ]
     },
     "execution_count": 80,
     "metadata": {},
     "output_type": "execute_result"
    }
   ],
   "source": [
    "test1"
   ]
  },
  {
   "cell_type": "code",
   "execution_count": null,
   "metadata": {},
   "outputs": [],
   "source": [
    "#Test"
   ]
  },
  {
   "cell_type": "code",
   "execution_count": 23,
   "metadata": {},
   "outputs": [
    {
     "data": {
      "text/plain": [
       "(1669, 17)"
      ]
     },
     "execution_count": 23,
     "metadata": {},
     "output_type": "execute_result"
    }
   ],
   "source": [
    "df_train_svm=player_char_df_train[(player_char_df_train['seniority']<=15)|(player_char_df_train['num_bet_days']<=3)]\n",
    "df_train_svm.shape"
   ]
  },
  {
   "cell_type": "code",
   "execution_count": 24,
   "metadata": {},
   "outputs": [
    {
     "data": {
      "text/html": [
       "<div>\n",
       "<style scoped>\n",
       "    .dataframe tbody tr th:only-of-type {\n",
       "        vertical-align: middle;\n",
       "    }\n",
       "\n",
       "    .dataframe tbody tr th {\n",
       "        vertical-align: top;\n",
       "    }\n",
       "\n",
       "    .dataframe thead th {\n",
       "        text-align: right;\n",
       "    }\n",
       "</style>\n",
       "<table border=\"1\" class=\"dataframe\">\n",
       "  <thead>\n",
       "    <tr style=\"text-align: right;\">\n",
       "      <th></th>\n",
       "      <th>user</th>\n",
       "      <th>GGR_y</th>\n",
       "      <th>NGR_y</th>\n",
       "      <th>Stake_ratio_y</th>\n",
       "    </tr>\n",
       "  </thead>\n",
       "  <tbody>\n",
       "    <tr>\n",
       "      <th>0</th>\n",
       "      <td>521331</td>\n",
       "      <td>-17.0</td>\n",
       "      <td>-57.0</td>\n",
       "      <td>2.1644</td>\n",
       "    </tr>\n",
       "    <tr>\n",
       "      <th>1</th>\n",
       "      <td>488622</td>\n",
       "      <td>10.0</td>\n",
       "      <td>10.0</td>\n",
       "      <td>2.1000</td>\n",
       "    </tr>\n",
       "    <tr>\n",
       "      <th>2</th>\n",
       "      <td>521335</td>\n",
       "      <td>10.0</td>\n",
       "      <td>10.0</td>\n",
       "      <td>0.1134</td>\n",
       "    </tr>\n",
       "    <tr>\n",
       "      <th>3</th>\n",
       "      <td>521352</td>\n",
       "      <td>6.0</td>\n",
       "      <td>-24.0</td>\n",
       "      <td>7.5040</td>\n",
       "    </tr>\n",
       "    <tr>\n",
       "      <th>4</th>\n",
       "      <td>513063</td>\n",
       "      <td>0.0</td>\n",
       "      <td>-5.0</td>\n",
       "      <td>0.0000</td>\n",
       "    </tr>\n",
       "  </tbody>\n",
       "</table>\n",
       "</div>"
      ],
      "text/plain": [
       "     user  GGR_y  NGR_y  Stake_ratio_y\n",
       "0  521331  -17.0  -57.0         2.1644\n",
       "1  488622   10.0   10.0         2.1000\n",
       "2  521335   10.0   10.0         0.1134\n",
       "3  521352    6.0  -24.0         7.5040\n",
       "4  513063    0.0   -5.0         0.0000"
      ]
     },
     "execution_count": 24,
     "metadata": {},
     "output_type": "execute_result"
    }
   ],
   "source": [
    "player_char_df_y=player_char_df[['user','GGR','NGR','Stake_ratio']]\n",
    "player_char_df_y=player_char_df_y.rename(columns={'GGR':'GGR_y','NGR':'NGR_y','Stake_ratio':'Stake_ratio_y'})\n",
    "player_char_df_y.head()"
   ]
  },
  {
   "cell_type": "code",
   "execution_count": 94,
   "metadata": {},
   "outputs": [],
   "source": [
    "#player_char_df.to_csv(r'C:\\Users\\kobi_z\\Documents\\Data Science\\Simpool Projects\\player_char.csv')"
   ]
  },
  {
   "cell_type": "code",
   "execution_count": 95,
   "metadata": {},
   "outputs": [],
   "source": [
    "combined_df_train_svm=pd.merge(left=df_train_svm,right=player_char_df_y,left_on='user',right_on='user')"
   ]
  },
  {
   "cell_type": "code",
   "execution_count": 96,
   "metadata": {},
   "outputs": [],
   "source": [
    "combined_df_train_svm=combined_df_train_svm.fillna(0)"
   ]
  },
  {
   "cell_type": "code",
   "execution_count": 97,
   "metadata": {},
   "outputs": [
    {
     "data": {
      "text/plain": [
       "(658, 20)"
      ]
     },
     "execution_count": 97,
     "metadata": {},
     "output_type": "execute_result"
    }
   ],
   "source": [
    "combined_df_train_svm.shape"
   ]
  },
  {
   "cell_type": "code",
   "execution_count": 98,
   "metadata": {},
   "outputs": [],
   "source": [
    "ex_mask=combined_df_train_svm['user'].isin(df_ex['user'])"
   ]
  },
  {
   "cell_type": "code",
   "execution_count": 99,
   "metadata": {},
   "outputs": [
    {
     "data": {
      "text/plain": [
       "(627, 21)"
      ]
     },
     "execution_count": 99,
     "metadata": {},
     "output_type": "execute_result"
    }
   ],
   "source": [
    "combined_df_train_svm=combined_df_train_svm[~ex_mask].reset_index()\n",
    "combined_df_train_svm.shape"
   ]
  },
  {
   "cell_type": "code",
   "execution_count": 100,
   "metadata": {},
   "outputs": [
    {
     "data": {
      "text/html": [
       "<div>\n",
       "<style scoped>\n",
       "    .dataframe tbody tr th:only-of-type {\n",
       "        vertical-align: middle;\n",
       "    }\n",
       "\n",
       "    .dataframe tbody tr th {\n",
       "        vertical-align: top;\n",
       "    }\n",
       "\n",
       "    .dataframe thead th {\n",
       "        text-align: right;\n",
       "    }\n",
       "</style>\n",
       "<table border=\"1\" class=\"dataframe\">\n",
       "  <thead>\n",
       "    <tr style=\"text-align: right;\">\n",
       "      <th></th>\n",
       "      <th>index</th>\n",
       "      <th>user</th>\n",
       "      <th>num_of_bets</th>\n",
       "      <th>num_of_free_bets</th>\n",
       "      <th>num_of_win_bets</th>\n",
       "      <th>win_bets_amount</th>\n",
       "      <th>num_of_lost_bets</th>\n",
       "      <th>lost_bets_amount</th>\n",
       "      <th>deposite_amount</th>\n",
       "      <th>withdrawal_amount</th>\n",
       "      <th>num_bet_days</th>\n",
       "      <th>first2last_days_bet</th>\n",
       "      <th>odd_count</th>\n",
       "      <th>odd_boost</th>\n",
       "      <th>seniority</th>\n",
       "      <th>GGR</th>\n",
       "      <th>NGR</th>\n",
       "      <th>Stake_ratio</th>\n",
       "      <th>GGR_y</th>\n",
       "      <th>NGR_y</th>\n",
       "      <th>Stake_ratio_y</th>\n",
       "    </tr>\n",
       "  </thead>\n",
       "  <tbody>\n",
       "    <tr>\n",
       "      <th>0</th>\n",
       "      <td>0</td>\n",
       "      <td>521500</td>\n",
       "      <td>0</td>\n",
       "      <td>2</td>\n",
       "      <td>0</td>\n",
       "      <td>0.00</td>\n",
       "      <td>2</td>\n",
       "      <td>20.00</td>\n",
       "      <td>10.0</td>\n",
       "      <td>55.0</td>\n",
       "      <td>1</td>\n",
       "      <td>0.0</td>\n",
       "      <td>3.0</td>\n",
       "      <td>0.0</td>\n",
       "      <td>1</td>\n",
       "      <td>-45.0</td>\n",
       "      <td>-65.0</td>\n",
       "      <td>0.0000</td>\n",
       "      <td>-45.0</td>\n",
       "      <td>-75.0</td>\n",
       "      <td>1.4000</td>\n",
       "    </tr>\n",
       "    <tr>\n",
       "      <th>1</th>\n",
       "      <td>1</td>\n",
       "      <td>521076</td>\n",
       "      <td>1</td>\n",
       "      <td>0</td>\n",
       "      <td>0</td>\n",
       "      <td>0.00</td>\n",
       "      <td>1</td>\n",
       "      <td>5.00</td>\n",
       "      <td>5.0</td>\n",
       "      <td>0.0</td>\n",
       "      <td>1</td>\n",
       "      <td>0.0</td>\n",
       "      <td>4.0</td>\n",
       "      <td>5.0</td>\n",
       "      <td>1</td>\n",
       "      <td>5.0</td>\n",
       "      <td>5.0</td>\n",
       "      <td>0.7000</td>\n",
       "      <td>-198.0</td>\n",
       "      <td>-228.0</td>\n",
       "      <td>2.1000</td>\n",
       "    </tr>\n",
       "    <tr>\n",
       "      <th>2</th>\n",
       "      <td>2</td>\n",
       "      <td>518785</td>\n",
       "      <td>10</td>\n",
       "      <td>0</td>\n",
       "      <td>4</td>\n",
       "      <td>185.66</td>\n",
       "      <td>6</td>\n",
       "      <td>36.86</td>\n",
       "      <td>35.0</td>\n",
       "      <td>150.0</td>\n",
       "      <td>5</td>\n",
       "      <td>5.0</td>\n",
       "      <td>5.0</td>\n",
       "      <td>0.2</td>\n",
       "      <td>13</td>\n",
       "      <td>-115.0</td>\n",
       "      <td>-115.0</td>\n",
       "      <td>10.9452</td>\n",
       "      <td>-115.0</td>\n",
       "      <td>-145.0</td>\n",
       "      <td>12.3452</td>\n",
       "    </tr>\n",
       "    <tr>\n",
       "      <th>3</th>\n",
       "      <td>3</td>\n",
       "      <td>521872</td>\n",
       "      <td>3</td>\n",
       "      <td>0</td>\n",
       "      <td>0</td>\n",
       "      <td>0.00</td>\n",
       "      <td>3</td>\n",
       "      <td>10.00</td>\n",
       "      <td>10.0</td>\n",
       "      <td>0.0</td>\n",
       "      <td>1</td>\n",
       "      <td>0.0</td>\n",
       "      <td>3.0</td>\n",
       "      <td>15.2</td>\n",
       "      <td>3</td>\n",
       "      <td>10.0</td>\n",
       "      <td>10.0</td>\n",
       "      <td>1.4000</td>\n",
       "      <td>-38.0</td>\n",
       "      <td>-68.0</td>\n",
       "      <td>4.9504</td>\n",
       "    </tr>\n",
       "    <tr>\n",
       "      <th>4</th>\n",
       "      <td>4</td>\n",
       "      <td>521887</td>\n",
       "      <td>6</td>\n",
       "      <td>2</td>\n",
       "      <td>2</td>\n",
       "      <td>14.54</td>\n",
       "      <td>6</td>\n",
       "      <td>13.08</td>\n",
       "      <td>10.0</td>\n",
       "      <td>0.0</td>\n",
       "      <td>6</td>\n",
       "      <td>5.0</td>\n",
       "      <td>3.5</td>\n",
       "      <td>0.0</td>\n",
       "      <td>13</td>\n",
       "      <td>10.0</td>\n",
       "      <td>6.5</td>\n",
       "      <td>2.5956</td>\n",
       "      <td>10.0</td>\n",
       "      <td>-23.5</td>\n",
       "      <td>3.9956</td>\n",
       "    </tr>\n",
       "  </tbody>\n",
       "</table>\n",
       "</div>"
      ],
      "text/plain": [
       "   index    user  num_of_bets  num_of_free_bets  num_of_win_bets  \\\n",
       "0      0  521500            0                 2                0   \n",
       "1      1  521076            1                 0                0   \n",
       "2      2  518785           10                 0                4   \n",
       "3      3  521872            3                 0                0   \n",
       "4      4  521887            6                 2                2   \n",
       "\n",
       "   win_bets_amount  num_of_lost_bets  lost_bets_amount  deposite_amount  \\\n",
       "0             0.00                 2             20.00             10.0   \n",
       "1             0.00                 1              5.00              5.0   \n",
       "2           185.66                 6             36.86             35.0   \n",
       "3             0.00                 3             10.00             10.0   \n",
       "4            14.54                 6             13.08             10.0   \n",
       "\n",
       "   withdrawal_amount  num_bet_days  first2last_days_bet  odd_count  odd_boost  \\\n",
       "0               55.0             1                  0.0        3.0        0.0   \n",
       "1                0.0             1                  0.0        4.0        5.0   \n",
       "2              150.0             5                  5.0        5.0        0.2   \n",
       "3                0.0             1                  0.0        3.0       15.2   \n",
       "4                0.0             6                  5.0        3.5        0.0   \n",
       "\n",
       "   seniority    GGR    NGR  Stake_ratio  GGR_y  NGR_y  Stake_ratio_y  \n",
       "0          1  -45.0  -65.0       0.0000  -45.0  -75.0         1.4000  \n",
       "1          1    5.0    5.0       0.7000 -198.0 -228.0         2.1000  \n",
       "2         13 -115.0 -115.0      10.9452 -115.0 -145.0        12.3452  \n",
       "3          3   10.0   10.0       1.4000  -38.0  -68.0         4.9504  \n",
       "4         13   10.0    6.5       2.5956   10.0  -23.5         3.9956  "
      ]
     },
     "execution_count": 100,
     "metadata": {},
     "output_type": "execute_result"
    }
   ],
   "source": [
    "combined_df_train_svm.head()"
   ]
  },
  {
   "cell_type": "code",
   "execution_count": 101,
   "metadata": {},
   "outputs": [],
   "source": [
    "X=combined_df_train_svm[['num_of_bets','num_of_free_bets','num_of_win_bets','win_bets_amount','num_of_lost_bets','lost_bets_amount','deposite_amount','withdrawal_amount','num_bet_days','first2last_days_bet','odd_count','odd_boost','seniority','GGR','NGR','Stake_ratio']].to_numpy()\n",
    "Y_ngr=combined_df_train_svm['NGR_y'].to_numpy()\n",
    "Y_ggr=combined_df_train_svm['GGR_y'].to_numpy()\n",
    "Y_r=combined_df_train_svm['Stake_ratio_y'].to_numpy()"
   ]
  },
  {
   "cell_type": "code",
   "execution_count": 54,
   "metadata": {},
   "outputs": [],
   "source": [
    "pipeline_model=Pipeline(steps=[('scale',StandardScaler()),('svm',SVR())])\n",
    "grid_param={'svm__C':[5,10,15,20,25,30,50], 'svm__kernel': ['rbf','linear','poly','sigmoid'],'svm__degree' : [1,2,3,5,8],'svm__max_iter': [3,5,7,100,150,300,500,700,1000]}\n",
    "\n",
    "gd_sr = GridSearchCV(estimator=pipeline_model,\n",
    "                     param_grid=grid_param,\n",
    "                     scoring='r2',\n",
    "                     cv=3,\n",
    "                     n_jobs=-1)"
   ]
  },
  {
   "cell_type": "markdown",
   "metadata": {},
   "source": [
    "### NGR"
   ]
  },
  {
   "cell_type": "code",
   "execution_count": 55,
   "metadata": {
    "scrolled": true
   },
   "outputs": [
    {
     "name": "stderr",
     "output_type": "stream",
     "text": [
      "C:\\Users\\kobi_z\\Anaconda3\\lib\\site-packages\\sklearn\\svm\\_base.py:249: ConvergenceWarning: Solver terminated early (max_iter=700).  Consider pre-processing your data with StandardScaler or MinMaxScaler.\n",
      "  % self.max_iter, ConvergenceWarning)\n"
     ]
    },
    {
     "data": {
      "text/plain": [
       "GridSearchCV(cv=3,\n",
       "             estimator=Pipeline(steps=[('scale', StandardScaler()),\n",
       "                                       ('svm', SVR())]),\n",
       "             n_jobs=-1,\n",
       "             param_grid={'svm__C': [5, 10, 15, 20, 25, 30, 50],\n",
       "                         'svm__degree': [1, 2, 3, 5, 8],\n",
       "                         'svm__kernel': ['rbf', 'linear', 'poly', 'sigmoid'],\n",
       "                         'svm__max_iter': [3, 5, 7, 100, 150, 300, 500, 700,\n",
       "                                           1000]},\n",
       "             scoring='r2')"
      ]
     },
     "execution_count": 55,
     "metadata": {},
     "output_type": "execute_result"
    }
   ],
   "source": [
    "gd_sr.fit(X,Y_ngr)"
   ]
  },
  {
   "cell_type": "code",
   "execution_count": 56,
   "metadata": {},
   "outputs": [
    {
     "data": {
      "text/plain": [
       "0.7510594461970014"
      ]
     },
     "execution_count": 56,
     "metadata": {},
     "output_type": "execute_result"
    }
   ],
   "source": [
    "gd_sr.best_score_"
   ]
  },
  {
   "cell_type": "code",
   "execution_count": 57,
   "metadata": {},
   "outputs": [
    {
     "data": {
      "text/plain": [
       "{'svm__C': 25, 'svm__degree': 1, 'svm__kernel': 'linear', 'svm__max_iter': 700}"
      ]
     },
     "execution_count": 57,
     "metadata": {},
     "output_type": "execute_result"
    }
   ],
   "source": [
    "gd_sr.best_params_"
   ]
  },
  {
   "cell_type": "code",
   "execution_count": 58,
   "metadata": {},
   "outputs": [
    {
     "name": "stderr",
     "output_type": "stream",
     "text": [
      "C:\\Users\\kobi_z\\Anaconda3\\lib\\site-packages\\sklearn\\svm\\_base.py:249: ConvergenceWarning: Solver terminated early (max_iter=700).  Consider pre-processing your data with StandardScaler or MinMaxScaler.\n",
      "  % self.max_iter, ConvergenceWarning)\n"
     ]
    },
    {
     "data": {
      "text/plain": [
       "Pipeline(steps=[('scale', StandardScaler()),\n",
       "                ('svm', SVR(C=25, degree=1, kernel='linear', max_iter=700))])"
      ]
     },
     "execution_count": 58,
     "metadata": {},
     "output_type": "execute_result"
    }
   ],
   "source": [
    "model_ngr=Pipeline(steps=[('scale',StandardScaler()),('svm',SVR(C=25,degree=1,kernel='linear',max_iter=700))])\n",
    "model_ngr.fit(X,Y_ngr)"
   ]
  },
  {
   "cell_type": "code",
   "execution_count": 102,
   "metadata": {},
   "outputs": [],
   "source": [
    "y_hat_ngr=model_ngr.predict(X)"
   ]
  },
  {
   "cell_type": "markdown",
   "metadata": {},
   "source": [
    "### GGR"
   ]
  },
  {
   "cell_type": "code",
   "execution_count": 60,
   "metadata": {},
   "outputs": [
    {
     "name": "stderr",
     "output_type": "stream",
     "text": [
      "C:\\Users\\kobi_z\\Anaconda3\\lib\\site-packages\\sklearn\\svm\\_base.py:249: ConvergenceWarning: Solver terminated early (max_iter=500).  Consider pre-processing your data with StandardScaler or MinMaxScaler.\n",
      "  % self.max_iter, ConvergenceWarning)\n"
     ]
    },
    {
     "data": {
      "text/plain": [
       "GridSearchCV(cv=3,\n",
       "             estimator=Pipeline(steps=[('scale', StandardScaler()),\n",
       "                                       ('svm', SVR())]),\n",
       "             n_jobs=-1,\n",
       "             param_grid={'svm__C': [5, 10, 15, 20, 25, 30, 50],\n",
       "                         'svm__degree': [1, 2, 3, 5, 8],\n",
       "                         'svm__kernel': ['rbf', 'linear', 'poly', 'sigmoid'],\n",
       "                         'svm__max_iter': [3, 5, 7, 100, 150, 300, 500, 700,\n",
       "                                           1000]},\n",
       "             scoring='r2')"
      ]
     },
     "execution_count": 60,
     "metadata": {},
     "output_type": "execute_result"
    }
   ],
   "source": [
    "gd_sr.fit(X,Y_ggr)"
   ]
  },
  {
   "cell_type": "code",
   "execution_count": 61,
   "metadata": {},
   "outputs": [
    {
     "data": {
      "text/plain": [
       "0.7855254991668694"
      ]
     },
     "execution_count": 61,
     "metadata": {},
     "output_type": "execute_result"
    }
   ],
   "source": [
    "gd_sr.best_score_"
   ]
  },
  {
   "cell_type": "code",
   "execution_count": 62,
   "metadata": {},
   "outputs": [
    {
     "data": {
      "text/plain": [
       "{'svm__C': 30, 'svm__degree': 1, 'svm__kernel': 'linear', 'svm__max_iter': 500}"
      ]
     },
     "execution_count": 62,
     "metadata": {},
     "output_type": "execute_result"
    }
   ],
   "source": [
    "gd_sr.best_params_"
   ]
  },
  {
   "cell_type": "code",
   "execution_count": 63,
   "metadata": {},
   "outputs": [
    {
     "name": "stderr",
     "output_type": "stream",
     "text": [
      "C:\\Users\\kobi_z\\Anaconda3\\lib\\site-packages\\sklearn\\svm\\_base.py:249: ConvergenceWarning: Solver terminated early (max_iter=500).  Consider pre-processing your data with StandardScaler or MinMaxScaler.\n",
      "  % self.max_iter, ConvergenceWarning)\n"
     ]
    },
    {
     "data": {
      "text/plain": [
       "Pipeline(steps=[('scale', StandardScaler()),\n",
       "                ('svm', SVR(C=10, degree=1, kernel='linear', max_iter=500))])"
      ]
     },
     "execution_count": 63,
     "metadata": {},
     "output_type": "execute_result"
    }
   ],
   "source": [
    "model_ggr=Pipeline(steps=[('scale',StandardScaler()),('svm',SVR(C=10,degree=1,kernel='linear',max_iter=500))])\n",
    "model_ggr.fit(X,Y_ggr)"
   ]
  },
  {
   "cell_type": "code",
   "execution_count": 103,
   "metadata": {},
   "outputs": [],
   "source": [
    "y_hat_ggr=model_ggr.predict(X)"
   ]
  },
  {
   "cell_type": "markdown",
   "metadata": {},
   "source": [
    "### Stake Ratio"
   ]
  },
  {
   "cell_type": "code",
   "execution_count": 65,
   "metadata": {},
   "outputs": [
    {
     "name": "stderr",
     "output_type": "stream",
     "text": [
      "C:\\Users\\kobi_z\\Anaconda3\\lib\\site-packages\\sklearn\\svm\\_base.py:249: ConvergenceWarning: Solver terminated early (max_iter=1000).  Consider pre-processing your data with StandardScaler or MinMaxScaler.\n",
      "  % self.max_iter, ConvergenceWarning)\n"
     ]
    },
    {
     "data": {
      "text/plain": [
       "GridSearchCV(cv=3,\n",
       "             estimator=Pipeline(steps=[('scale', StandardScaler()),\n",
       "                                       ('svm', SVR())]),\n",
       "             n_jobs=-1,\n",
       "             param_grid={'svm__C': [5, 10, 15, 20, 25, 30, 50],\n",
       "                         'svm__degree': [1, 2, 3, 5, 8],\n",
       "                         'svm__kernel': ['rbf', 'linear', 'poly', 'sigmoid'],\n",
       "                         'svm__max_iter': [3, 5, 7, 100, 150, 300, 500, 700,\n",
       "                                           1000]},\n",
       "             scoring='r2')"
      ]
     },
     "execution_count": 65,
     "metadata": {},
     "output_type": "execute_result"
    }
   ],
   "source": [
    "gd_sr.fit(X,Y_r)"
   ]
  },
  {
   "cell_type": "code",
   "execution_count": 66,
   "metadata": {},
   "outputs": [
    {
     "data": {
      "text/plain": [
       "0.7296199524623401"
      ]
     },
     "execution_count": 66,
     "metadata": {},
     "output_type": "execute_result"
    }
   ],
   "source": [
    "gd_sr.best_score_"
   ]
  },
  {
   "cell_type": "code",
   "execution_count": 67,
   "metadata": {},
   "outputs": [
    {
     "data": {
      "text/plain": [
       "{'svm__C': 10,\n",
       " 'svm__degree': 1,\n",
       " 'svm__kernel': 'linear',\n",
       " 'svm__max_iter': 1000}"
      ]
     },
     "execution_count": 67,
     "metadata": {},
     "output_type": "execute_result"
    }
   ],
   "source": [
    "gd_sr.best_params_"
   ]
  },
  {
   "cell_type": "code",
   "execution_count": 68,
   "metadata": {},
   "outputs": [
    {
     "name": "stderr",
     "output_type": "stream",
     "text": [
      "C:\\Users\\kobi_z\\Anaconda3\\lib\\site-packages\\sklearn\\svm\\_base.py:249: ConvergenceWarning: Solver terminated early (max_iter=300).  Consider pre-processing your data with StandardScaler or MinMaxScaler.\n",
      "  % self.max_iter, ConvergenceWarning)\n"
     ]
    },
    {
     "data": {
      "text/plain": [
       "Pipeline(steps=[('scale', StandardScaler()),\n",
       "                ('svm', SVR(C=15, degree=1, kernel='linear', max_iter=300))])"
      ]
     },
     "execution_count": 68,
     "metadata": {},
     "output_type": "execute_result"
    }
   ],
   "source": [
    "model_r=Pipeline(steps=[('scale',StandardScaler()),('svm',SVR(C=15,degree=1,kernel='linear',max_iter=300))])\n",
    "model_r.fit(X,Y_r)"
   ]
  },
  {
   "cell_type": "code",
   "execution_count": 104,
   "metadata": {},
   "outputs": [],
   "source": [
    "y_hat_r=model_r.predict(X)"
   ]
  },
  {
   "cell_type": "code",
   "execution_count": 105,
   "metadata": {},
   "outputs": [],
   "source": [
    "dfx=pd.DataFrame(X)\n",
    "dfngr=pd.DataFrame(y_hat_ngr)\n",
    "dfngr.columns=['y_hat_ngr']\n",
    "dfggr=pd.DataFrame(y_hat_ggr)\n",
    "dfggr.columns=['y_hat_ggr']\n",
    "dfr=pd.DataFrame(y_hat_r)\n",
    "dfr.columns=['y_hat_r']"
   ]
  },
  {
   "cell_type": "code",
   "execution_count": 106,
   "metadata": {},
   "outputs": [],
   "source": [
    "svm_pred=pd.concat([combined_df_train_svm,dfx,dfngr,dfggr,dfr],axis=1)"
   ]
  },
  {
   "cell_type": "code",
   "execution_count": 108,
   "metadata": {},
   "outputs": [
    {
     "data": {
      "text/html": [
       "<div>\n",
       "<style scoped>\n",
       "    .dataframe tbody tr th:only-of-type {\n",
       "        vertical-align: middle;\n",
       "    }\n",
       "\n",
       "    .dataframe tbody tr th {\n",
       "        vertical-align: top;\n",
       "    }\n",
       "\n",
       "    .dataframe thead th {\n",
       "        text-align: right;\n",
       "    }\n",
       "</style>\n",
       "<table border=\"1\" class=\"dataframe\">\n",
       "  <thead>\n",
       "    <tr style=\"text-align: right;\">\n",
       "      <th></th>\n",
       "      <th>user</th>\n",
       "      <th>y_hat_ngr</th>\n",
       "      <th>y_hat_ggr</th>\n",
       "      <th>y_hat_r</th>\n",
       "    </tr>\n",
       "  </thead>\n",
       "  <tbody>\n",
       "    <tr>\n",
       "      <th>0</th>\n",
       "      <td>521500</td>\n",
       "      <td>-127.528478</td>\n",
       "      <td>-53.050003</td>\n",
       "      <td>-22.798992</td>\n",
       "    </tr>\n",
       "    <tr>\n",
       "      <th>1</th>\n",
       "      <td>521076</td>\n",
       "      <td>-56.006670</td>\n",
       "      <td>8.714798</td>\n",
       "      <td>-21.695104</td>\n",
       "    </tr>\n",
       "    <tr>\n",
       "      <th>2</th>\n",
       "      <td>518785</td>\n",
       "      <td>-169.414764</td>\n",
       "      <td>-118.804171</td>\n",
       "      <td>-14.111057</td>\n",
       "    </tr>\n",
       "    <tr>\n",
       "      <th>3</th>\n",
       "      <td>521872</td>\n",
       "      <td>-45.791695</td>\n",
       "      <td>28.143962</td>\n",
       "      <td>-2.632107</td>\n",
       "    </tr>\n",
       "    <tr>\n",
       "      <th>4</th>\n",
       "      <td>521887</td>\n",
       "      <td>-51.724819</td>\n",
       "      <td>7.099176</td>\n",
       "      <td>-21.047878</td>\n",
       "    </tr>\n",
       "  </tbody>\n",
       "</table>\n",
       "</div>"
      ],
      "text/plain": [
       "     user   y_hat_ngr   y_hat_ggr    y_hat_r\n",
       "0  521500 -127.528478  -53.050003 -22.798992\n",
       "1  521076  -56.006670    8.714798 -21.695104\n",
       "2  518785 -169.414764 -118.804171 -14.111057\n",
       "3  521872  -45.791695   28.143962  -2.632107\n",
       "4  521887  -51.724819    7.099176 -21.047878"
      ]
     },
     "execution_count": 108,
     "metadata": {},
     "output_type": "execute_result"
    }
   ],
   "source": [
    "svm_pred=svm_pred[['user','y_hat_ngr','y_hat_ggr','y_hat_r']]\n",
    "svm_pred.head()"
   ]
  },
  {
   "cell_type": "markdown",
   "metadata": {},
   "source": [
    "### Evaluation"
   ]
  },
  {
   "cell_type": "code",
   "execution_count": 100,
   "metadata": {},
   "outputs": [],
   "source": [
    "DF_pred=pd.DataFrame([Y_ngr,y_hat_ngr,Y_ggr,y_hat_ggr,Y_r,y_hat_r]).transpose()"
   ]
  },
  {
   "cell_type": "code",
   "execution_count": 101,
   "metadata": {},
   "outputs": [],
   "source": [
    "DF_pred.columns=['Y_ngr','y_hat_ngr','Y_ggr','y_hat_ggr','Y_r','y_hat_r']"
   ]
  },
  {
   "cell_type": "code",
   "execution_count": 102,
   "metadata": {},
   "outputs": [
    {
     "data": {
      "text/html": [
       "<div>\n",
       "<style scoped>\n",
       "    .dataframe tbody tr th:only-of-type {\n",
       "        vertical-align: middle;\n",
       "    }\n",
       "\n",
       "    .dataframe tbody tr th {\n",
       "        vertical-align: top;\n",
       "    }\n",
       "\n",
       "    .dataframe thead th {\n",
       "        text-align: right;\n",
       "    }\n",
       "</style>\n",
       "<table border=\"1\" class=\"dataframe\">\n",
       "  <thead>\n",
       "    <tr style=\"text-align: right;\">\n",
       "      <th></th>\n",
       "      <th>Y_ngr</th>\n",
       "      <th>y_hat_ngr</th>\n",
       "      <th>Y_ggr</th>\n",
       "      <th>y_hat_ggr</th>\n",
       "      <th>Y_r</th>\n",
       "      <th>y_hat_r</th>\n",
       "    </tr>\n",
       "  </thead>\n",
       "  <tbody>\n",
       "    <tr>\n",
       "      <th>Y_ngr</th>\n",
       "      <td>1.000000</td>\n",
       "      <td>0.890137</td>\n",
       "      <td>0.987202</td>\n",
       "      <td>0.887304</td>\n",
       "      <td>0.445727</td>\n",
       "      <td>0.474035</td>\n",
       "    </tr>\n",
       "    <tr>\n",
       "      <th>y_hat_ngr</th>\n",
       "      <td>0.890137</td>\n",
       "      <td>1.000000</td>\n",
       "      <td>0.914823</td>\n",
       "      <td>0.993464</td>\n",
       "      <td>0.575636</td>\n",
       "      <td>0.594798</td>\n",
       "    </tr>\n",
       "    <tr>\n",
       "      <th>Y_ggr</th>\n",
       "      <td>0.987202</td>\n",
       "      <td>0.914823</td>\n",
       "      <td>1.000000</td>\n",
       "      <td>0.919876</td>\n",
       "      <td>0.486167</td>\n",
       "      <td>0.511411</td>\n",
       "    </tr>\n",
       "    <tr>\n",
       "      <th>y_hat_ggr</th>\n",
       "      <td>0.887304</td>\n",
       "      <td>0.993464</td>\n",
       "      <td>0.919876</td>\n",
       "      <td>1.000000</td>\n",
       "      <td>0.542534</td>\n",
       "      <td>0.559817</td>\n",
       "    </tr>\n",
       "    <tr>\n",
       "      <th>Y_r</th>\n",
       "      <td>0.445727</td>\n",
       "      <td>0.575636</td>\n",
       "      <td>0.486167</td>\n",
       "      <td>0.542534</td>\n",
       "      <td>1.000000</td>\n",
       "      <td>0.989559</td>\n",
       "    </tr>\n",
       "    <tr>\n",
       "      <th>y_hat_r</th>\n",
       "      <td>0.474035</td>\n",
       "      <td>0.594798</td>\n",
       "      <td>0.511411</td>\n",
       "      <td>0.559817</td>\n",
       "      <td>0.989559</td>\n",
       "      <td>1.000000</td>\n",
       "    </tr>\n",
       "  </tbody>\n",
       "</table>\n",
       "</div>"
      ],
      "text/plain": [
       "              Y_ngr  y_hat_ngr     Y_ggr  y_hat_ggr       Y_r   y_hat_r\n",
       "Y_ngr      1.000000   0.890137  0.987202   0.887304  0.445727  0.474035\n",
       "y_hat_ngr  0.890137   1.000000  0.914823   0.993464  0.575636  0.594798\n",
       "Y_ggr      0.987202   0.914823  1.000000   0.919876  0.486167  0.511411\n",
       "y_hat_ggr  0.887304   0.993464  0.919876   1.000000  0.542534  0.559817\n",
       "Y_r        0.445727   0.575636  0.486167   0.542534  1.000000  0.989559\n",
       "y_hat_r    0.474035   0.594798  0.511411   0.559817  0.989559  1.000000"
      ]
     },
     "execution_count": 102,
     "metadata": {},
     "output_type": "execute_result"
    }
   ],
   "source": [
    "DF_pred.corr()"
   ]
  },
  {
   "cell_type": "code",
   "execution_count": 103,
   "metadata": {},
   "outputs": [
    {
     "data": {
      "text/plain": [
       "<seaborn.axisgrid.PairGrid at 0x2084b071248>"
      ]
     },
     "execution_count": 103,
     "metadata": {},
     "output_type": "execute_result"
    },
    {
     "data": {
      "image/png": "[encoded data removed]",
      "text/plain": [
       "<Figure size 1080x1080 with 42 Axes>"
      ]
     },
     "metadata": {
      "needs_background": "light"
     },
     "output_type": "display_data"
    }
   ],
   "source": [
    "sns.pairplot(DF_pred)"
   ]
  },
  {
   "cell_type": "code",
   "execution_count": 104,
   "metadata": {},
   "outputs": [
    {
     "name": "stdout",
     "output_type": "stream",
     "text": [
      "MSE NGR: 10276.57048698769 MSE GGR: 7288.267878312439 MSE Stake ratio: 867.1315611854661\n"
     ]
    }
   ],
   "source": [
    "mse_ngr=mean_squared_error(Y_ngr,y_hat_ngr)\n",
    "mse_ggr=mean_squared_error(Y_ggr,y_hat_ggr)\n",
    "mse_r=mean_squared_error(Y_r,y_hat_r)\n",
    "\n",
    "print('MSE NGR:',mse_ngr,'MSE GGR:',mse_ggr,'MSE Stake ratio:',mse_r)"
   ]
  },
  {
   "cell_type": "markdown",
   "metadata": {},
   "source": [
    "# ARIMA"
   ]
  },
  {
   "cell_type": "code",
   "execution_count": 92,
   "metadata": {},
   "outputs": [
    {
     "data": {
      "text/plain": [
       "(2637, 17)"
      ]
     },
     "execution_count": 92,
     "metadata": {},
     "output_type": "execute_result"
    }
   ],
   "source": [
    "player_char_df_train.shape"
   ]
  },
  {
   "cell_type": "code",
   "execution_count": 93,
   "metadata": {},
   "outputs": [
    {
     "data": {
      "text/plain": [
       "(2523, 17)"
      ]
     },
     "execution_count": 93,
     "metadata": {},
     "output_type": "execute_result"
    }
   ],
   "source": [
    "arima_mask_ex=player_char_df_train['user'].isin(df_ex['user'])\n",
    "player_char_df_train=player_char_df_train[~arima_mask_ex]\n",
    "player_char_df_train.shape"
   ]
  },
  {
   "cell_type": "code",
   "execution_count": 94,
   "metadata": {},
   "outputs": [],
   "source": [
    "df_train_arima=player_char_df_train[(player_char_df_train['seniority']>15)&(player_char_df_train['num_bet_days']>3)]\n",
    "df_train_arima=df_train_arima[(df_train_arima['user']!=544741)&\n",
    "                             (df_train_arima['user']!=553572)&\n",
    "                             (df_train_arima['user']!=552631)&\n",
    "                             (df_train_arima['user']!=570552)]"
   ]
  },
  {
   "cell_type": "code",
   "execution_count": 124,
   "metadata": {},
   "outputs": [
    {
     "name": "stderr",
     "output_type": "stream",
     "text": [
      "C:\\Users\\kobi_z\\Anaconda3\\lib\\site-packages\\ipykernel_launcher.py:4: SettingWithCopyWarning: \n",
      "A value is trying to be set on a copy of a slice from a DataFrame.\n",
      "Try using .loc[row_indexer,col_indexer] = value instead\n",
      "\n",
      "See the caveats in the documentation: https://pandas.pydata.org/pandas-docs/stable/user_guide/indexing.html#returning-a-view-versus-a-copy\n",
      "  after removing the cwd from sys.path.\n",
      "C:\\Users\\kobi_z\\Anaconda3\\lib\\site-packages\\ipykernel_launcher.py:30: SettingWithCopyWarning: \n",
      "A value is trying to be set on a copy of a slice from a DataFrame\n",
      "\n",
      "See the caveats in the documentation: https://pandas.pydata.org/pandas-docs/stable/user_guide/indexing.html#returning-a-view-versus-a-copy\n",
      "C:\\Users\\kobi_z\\Anaconda3\\lib\\site-packages\\ipykernel_launcher.py:32: SettingWithCopyWarning: \n",
      "A value is trying to be set on a copy of a slice from a DataFrame\n",
      "\n",
      "See the caveats in the documentation: https://pandas.pydata.org/pandas-docs/stable/user_guide/indexing.html#returning-a-view-versus-a-copy\n",
      "C:\\Users\\kobi_z\\Anaconda3\\lib\\site-packages\\ipykernel_launcher.py:37: SettingWithCopyWarning: \n",
      "A value is trying to be set on a copy of a slice from a DataFrame\n",
      "\n",
      "See the caveats in the documentation: https://pandas.pydata.org/pandas-docs/stable/user_guide/indexing.html#returning-a-view-versus-a-copy\n",
      "C:\\Users\\kobi_z\\Anaconda3\\lib\\site-packages\\ipykernel_launcher.py:39: SettingWithCopyWarning: \n",
      "A value is trying to be set on a copy of a slice from a DataFrame\n",
      "\n",
      "See the caveats in the documentation: https://pandas.pydata.org/pandas-docs/stable/user_guide/indexing.html#returning-a-view-versus-a-copy\n",
      "C:\\Users\\kobi_z\\Anaconda3\\lib\\site-packages\\ipykernel_launcher.py:47: SettingWithCopyWarning: \n",
      "A value is trying to be set on a copy of a slice from a DataFrame\n",
      "\n",
      "See the caveats in the documentation: https://pandas.pydata.org/pandas-docs/stable/user_guide/indexing.html#returning-a-view-versus-a-copy\n",
      "C:\\Users\\kobi_z\\Anaconda3\\lib\\site-packages\\ipykernel_launcher.py:49: SettingWithCopyWarning: \n",
      "A value is trying to be set on a copy of a slice from a DataFrame\n",
      "\n",
      "See the caveats in the documentation: https://pandas.pydata.org/pandas-docs/stable/user_guide/indexing.html#returning-a-view-versus-a-copy\n",
      "C:\\Users\\kobi_z\\Anaconda3\\lib\\site-packages\\ipykernel_launcher.py:53: SettingWithCopyWarning: \n",
      "A value is trying to be set on a copy of a slice from a DataFrame.\n",
      "Try using .loc[row_indexer,col_indexer] = value instead\n",
      "\n",
      "See the caveats in the documentation: https://pandas.pydata.org/pandas-docs/stable/user_guide/indexing.html#returning-a-view-versus-a-copy\n",
      "C:\\Users\\kobi_z\\Anaconda3\\lib\\site-packages\\ipykernel_launcher.py:18: SettingWithCopyWarning: \n",
      "A value is trying to be set on a copy of a slice from a DataFrame\n",
      "\n",
      "See the caveats in the documentation: https://pandas.pydata.org/pandas-docs/stable/user_guide/indexing.html#returning-a-view-versus-a-copy\n",
      "C:\\Users\\kobi_z\\Anaconda3\\lib\\site-packages\\ipykernel_launcher.py:20: SettingWithCopyWarning: \n",
      "A value is trying to be set on a copy of a slice from a DataFrame\n",
      "\n",
      "See the caveats in the documentation: https://pandas.pydata.org/pandas-docs/stable/user_guide/indexing.html#returning-a-view-versus-a-copy\n",
      "C:\\Users\\kobi_z\\Anaconda3\\lib\\site-packages\\ipykernel_launcher.py:25: SettingWithCopyWarning: \n",
      "A value is trying to be set on a copy of a slice from a DataFrame\n",
      "\n",
      "See the caveats in the documentation: https://pandas.pydata.org/pandas-docs/stable/user_guide/indexing.html#returning-a-view-versus-a-copy\n",
      "C:\\Users\\kobi_z\\Anaconda3\\lib\\site-packages\\ipykernel_launcher.py:27: SettingWithCopyWarning: \n",
      "A value is trying to be set on a copy of a slice from a DataFrame\n",
      "\n",
      "See the caveats in the documentation: https://pandas.pydata.org/pandas-docs/stable/user_guide/indexing.html#returning-a-view-versus-a-copy\n",
      "C:\\Users\\kobi_z\\Anaconda3\\lib\\site-packages\\ipykernel_launcher.py:42: SettingWithCopyWarning: \n",
      "A value is trying to be set on a copy of a slice from a DataFrame\n",
      "\n",
      "See the caveats in the documentation: https://pandas.pydata.org/pandas-docs/stable/user_guide/indexing.html#returning-a-view-versus-a-copy\n",
      "C:\\Users\\kobi_z\\Anaconda3\\lib\\site-packages\\ipykernel_launcher.py:44: SettingWithCopyWarning: \n",
      "A value is trying to be set on a copy of a slice from a DataFrame\n",
      "\n",
      "See the caveats in the documentation: https://pandas.pydata.org/pandas-docs/stable/user_guide/indexing.html#returning-a-view-versus-a-copy\n",
      "C:\\Users\\kobi_z\\Anaconda3\\lib\\site-packages\\statsmodels\\base\\model.py:548: HessianInversionWarning: Inverting hessian failed, no bse or cov_params available\n",
      "  'available', HessianInversionWarning)\n",
      "C:\\Users\\kobi_z\\Anaconda3\\lib\\site-packages\\statsmodels\\base\\model.py:568: ConvergenceWarning: Maximum Likelihood optimization failed to converge. Check mle_retvals\n",
      "  \"Check mle_retvals\", ConvergenceWarning)\n",
      "C:\\Users\\kobi_z\\Anaconda3\\lib\\site-packages\\statsmodels\\tsa\\tsatools.py:689: RuntimeWarning: overflow encountered in exp\n",
      "  newparams = ((1-np.exp(-params))/(1+np.exp(-params))).copy()\n",
      "C:\\Users\\kobi_z\\Anaconda3\\lib\\site-packages\\statsmodels\\tsa\\tsatools.py:689: RuntimeWarning: invalid value encountered in true_divide\n",
      "  newparams = ((1-np.exp(-params))/(1+np.exp(-params))).copy()\n",
      "C:\\Users\\kobi_z\\Anaconda3\\lib\\site-packages\\statsmodels\\tsa\\tsatools.py:690: RuntimeWarning: overflow encountered in exp\n",
      "  tmp = ((1-np.exp(-params))/(1+np.exp(-params))).copy()\n",
      "C:\\Users\\kobi_z\\Anaconda3\\lib\\site-packages\\statsmodels\\tsa\\tsatools.py:690: RuntimeWarning: invalid value encountered in true_divide\n",
      "  tmp = ((1-np.exp(-params))/(1+np.exp(-params))).copy()\n",
      "C:\\Users\\kobi_z\\Anaconda3\\lib\\site-packages\\statsmodels\\tsa\\kalmanf\\kalmanfilter.py:220: RuntimeWarning: divide by zero encountered in true_divide\n",
      "  Z_mat, R_mat, T_mat)\n",
      "C:\\Users\\kobi_z\\Anaconda3\\lib\\site-packages\\statsmodels\\base\\model.py:548: HessianInversionWarning: Inverting hessian failed, no bse or cov_params available\n",
      "  'available', HessianInversionWarning)\n",
      "C:\\Users\\kobi_z\\Anaconda3\\lib\\site-packages\\statsmodels\\base\\model.py:568: ConvergenceWarning: Maximum Likelihood optimization failed to converge. Check mle_retvals\n",
      "  \"Check mle_retvals\", ConvergenceWarning)\n",
      "C:\\Users\\kobi_z\\Anaconda3\\lib\\site-packages\\statsmodels\\base\\model.py:548: HessianInversionWarning: Inverting hessian failed, no bse or cov_params available\n",
      "  'available', HessianInversionWarning)\n",
      "C:\\Users\\kobi_z\\Anaconda3\\lib\\site-packages\\statsmodels\\base\\model.py:568: ConvergenceWarning: Maximum Likelihood optimization failed to converge. Check mle_retvals\n",
      "  \"Check mle_retvals\", ConvergenceWarning)\n",
      "C:\\Users\\kobi_z\\Anaconda3\\lib\\site-packages\\statsmodels\\base\\model.py:548: HessianInversionWarning: Inverting hessian failed, no bse or cov_params available\n",
      "  'available', HessianInversionWarning)\n",
      "C:\\Users\\kobi_z\\Anaconda3\\lib\\site-packages\\statsmodels\\base\\model.py:568: ConvergenceWarning: Maximum Likelihood optimization failed to converge. Check mle_retvals\n",
      "  \"Check mle_retvals\", ConvergenceWarning)\n",
      "C:\\Users\\kobi_z\\Anaconda3\\lib\\site-packages\\statsmodels\\base\\model.py:548: HessianInversionWarning: Inverting hessian failed, no bse or cov_params available\n",
      "  'available', HessianInversionWarning)\n",
      "C:\\Users\\kobi_z\\Anaconda3\\lib\\site-packages\\statsmodels\\base\\model.py:568: ConvergenceWarning: Maximum Likelihood optimization failed to converge. Check mle_retvals\n",
      "  \"Check mle_retvals\", ConvergenceWarning)\n",
      "C:\\Users\\kobi_z\\Anaconda3\\lib\\site-packages\\statsmodels\\base\\model.py:548: HessianInversionWarning: Inverting hessian failed, no bse or cov_params available\n",
      "  'available', HessianInversionWarning)\n",
      "C:\\Users\\kobi_z\\Anaconda3\\lib\\site-packages\\statsmodels\\base\\model.py:568: ConvergenceWarning: Maximum Likelihood optimization failed to converge. Check mle_retvals\n",
      "  \"Check mle_retvals\", ConvergenceWarning)\n",
      "C:\\Users\\kobi_z\\Anaconda3\\lib\\site-packages\\statsmodels\\base\\model.py:548: HessianInversionWarning: Inverting hessian failed, no bse or cov_params available\n",
      "  'available', HessianInversionWarning)\n",
      "C:\\Users\\kobi_z\\Anaconda3\\lib\\site-packages\\statsmodels\\base\\model.py:568: ConvergenceWarning: Maximum Likelihood optimization failed to converge. Check mle_retvals\n",
      "  \"Check mle_retvals\", ConvergenceWarning)\n",
      "C:\\Users\\kobi_z\\Anaconda3\\lib\\site-packages\\statsmodels\\base\\model.py:548: HessianInversionWarning: Inverting hessian failed, no bse or cov_params available\n",
      "  'available', HessianInversionWarning)\n",
      "C:\\Users\\kobi_z\\Anaconda3\\lib\\site-packages\\statsmodels\\base\\model.py:568: ConvergenceWarning: Maximum Likelihood optimization failed to converge. Check mle_retvals\n",
      "  \"Check mle_retvals\", ConvergenceWarning)\n"
     ]
    },
    {
     "name": "stderr",
     "output_type": "stream",
     "text": [
      "C:\\Users\\kobi_z\\Anaconda3\\lib\\site-packages\\statsmodels\\base\\model.py:548: HessianInversionWarning: Inverting hessian failed, no bse or cov_params available\n",
      "  'available', HessianInversionWarning)\n",
      "C:\\Users\\kobi_z\\Anaconda3\\lib\\site-packages\\statsmodels\\base\\model.py:568: ConvergenceWarning: Maximum Likelihood optimization failed to converge. Check mle_retvals\n",
      "  \"Check mle_retvals\", ConvergenceWarning)\n",
      "C:\\Users\\kobi_z\\Anaconda3\\lib\\site-packages\\statsmodels\\base\\model.py:548: HessianInversionWarning: Inverting hessian failed, no bse or cov_params available\n",
      "  'available', HessianInversionWarning)\n",
      "C:\\Users\\kobi_z\\Anaconda3\\lib\\site-packages\\statsmodels\\base\\model.py:568: ConvergenceWarning: Maximum Likelihood optimization failed to converge. Check mle_retvals\n",
      "  \"Check mle_retvals\", ConvergenceWarning)\n",
      "C:\\Users\\kobi_z\\Anaconda3\\lib\\site-packages\\statsmodels\\base\\model.py:548: HessianInversionWarning: Inverting hessian failed, no bse or cov_params available\n",
      "  'available', HessianInversionWarning)\n",
      "C:\\Users\\kobi_z\\Anaconda3\\lib\\site-packages\\statsmodels\\base\\model.py:548: HessianInversionWarning: Inverting hessian failed, no bse or cov_params available\n",
      "  'available', HessianInversionWarning)\n",
      "C:\\Users\\kobi_z\\Anaconda3\\lib\\site-packages\\statsmodels\\base\\model.py:568: ConvergenceWarning: Maximum Likelihood optimization failed to converge. Check mle_retvals\n",
      "  \"Check mle_retvals\", ConvergenceWarning)\n",
      "C:\\Users\\kobi_z\\Anaconda3\\lib\\site-packages\\statsmodels\\base\\model.py:548: HessianInversionWarning: Inverting hessian failed, no bse or cov_params available\n",
      "  'available', HessianInversionWarning)\n",
      "C:\\Users\\kobi_z\\Anaconda3\\lib\\site-packages\\statsmodels\\base\\model.py:568: ConvergenceWarning: Maximum Likelihood optimization failed to converge. Check mle_retvals\n",
      "  \"Check mle_retvals\", ConvergenceWarning)\n",
      "C:\\Users\\kobi_z\\Anaconda3\\lib\\site-packages\\statsmodels\\base\\model.py:548: HessianInversionWarning: Inverting hessian failed, no bse or cov_params available\n",
      "  'available', HessianInversionWarning)\n",
      "C:\\Users\\kobi_z\\Anaconda3\\lib\\site-packages\\statsmodels\\base\\model.py:548: HessianInversionWarning: Inverting hessian failed, no bse or cov_params available\n",
      "  'available', HessianInversionWarning)\n",
      "C:\\Users\\kobi_z\\Anaconda3\\lib\\site-packages\\statsmodels\\base\\model.py:568: ConvergenceWarning: Maximum Likelihood optimization failed to converge. Check mle_retvals\n",
      "  \"Check mle_retvals\", ConvergenceWarning)\n",
      "C:\\Users\\kobi_z\\Anaconda3\\lib\\site-packages\\statsmodels\\base\\model.py:548: HessianInversionWarning: Inverting hessian failed, no bse or cov_params available\n",
      "  'available', HessianInversionWarning)\n",
      "C:\\Users\\kobi_z\\Anaconda3\\lib\\site-packages\\statsmodels\\base\\model.py:568: ConvergenceWarning: Maximum Likelihood optimization failed to converge. Check mle_retvals\n",
      "  \"Check mle_retvals\", ConvergenceWarning)\n",
      "C:\\Users\\kobi_z\\Anaconda3\\lib\\site-packages\\statsmodels\\base\\model.py:548: HessianInversionWarning: Inverting hessian failed, no bse or cov_params available\n",
      "  'available', HessianInversionWarning)\n",
      "C:\\Users\\kobi_z\\Anaconda3\\lib\\site-packages\\statsmodels\\base\\model.py:568: ConvergenceWarning: Maximum Likelihood optimization failed to converge. Check mle_retvals\n",
      "  \"Check mle_retvals\", ConvergenceWarning)\n",
      "C:\\Users\\kobi_z\\Anaconda3\\lib\\site-packages\\statsmodels\\base\\model.py:548: HessianInversionWarning: Inverting hessian failed, no bse or cov_params available\n",
      "  'available', HessianInversionWarning)\n",
      "C:\\Users\\kobi_z\\Anaconda3\\lib\\site-packages\\statsmodels\\base\\model.py:568: ConvergenceWarning: Maximum Likelihood optimization failed to converge. Check mle_retvals\n",
      "  \"Check mle_retvals\", ConvergenceWarning)\n",
      "C:\\Users\\kobi_z\\Anaconda3\\lib\\site-packages\\statsmodels\\base\\model.py:568: ConvergenceWarning: Maximum Likelihood optimization failed to converge. Check mle_retvals\n",
      "  \"Check mle_retvals\", ConvergenceWarning)\n",
      "C:\\Users\\kobi_z\\Anaconda3\\lib\\site-packages\\statsmodels\\base\\model.py:548: HessianInversionWarning: Inverting hessian failed, no bse or cov_params available\n",
      "  'available', HessianInversionWarning)\n",
      "C:\\Users\\kobi_z\\Anaconda3\\lib\\site-packages\\statsmodels\\base\\model.py:548: HessianInversionWarning: Inverting hessian failed, no bse or cov_params available\n",
      "  'available', HessianInversionWarning)\n",
      "C:\\Users\\kobi_z\\Anaconda3\\lib\\site-packages\\statsmodels\\base\\model.py:548: HessianInversionWarning: Inverting hessian failed, no bse or cov_params available\n",
      "  'available', HessianInversionWarning)\n",
      "C:\\Users\\kobi_z\\Anaconda3\\lib\\site-packages\\statsmodels\\base\\model.py:548: HessianInversionWarning: Inverting hessian failed, no bse or cov_params available\n",
      "  'available', HessianInversionWarning)\n",
      "C:\\Users\\kobi_z\\Anaconda3\\lib\\site-packages\\statsmodels\\base\\model.py:548: HessianInversionWarning: Inverting hessian failed, no bse or cov_params available\n",
      "  'available', HessianInversionWarning)\n",
      "C:\\Users\\kobi_z\\Anaconda3\\lib\\site-packages\\statsmodels\\base\\model.py:568: ConvergenceWarning: Maximum Likelihood optimization failed to converge. Check mle_retvals\n",
      "  \"Check mle_retvals\", ConvergenceWarning)\n",
      "C:\\Users\\kobi_z\\Anaconda3\\lib\\site-packages\\statsmodels\\base\\model.py:548: HessianInversionWarning: Inverting hessian failed, no bse or cov_params available\n",
      "  'available', HessianInversionWarning)\n",
      "C:\\Users\\kobi_z\\Anaconda3\\lib\\site-packages\\statsmodels\\base\\model.py:548: HessianInversionWarning: Inverting hessian failed, no bse or cov_params available\n",
      "  'available', HessianInversionWarning)\n",
      "C:\\Users\\kobi_z\\Anaconda3\\lib\\site-packages\\statsmodels\\base\\model.py:548: HessianInversionWarning: Inverting hessian failed, no bse or cov_params available\n",
      "  'available', HessianInversionWarning)\n",
      "C:\\Users\\kobi_z\\Anaconda3\\lib\\site-packages\\statsmodels\\base\\model.py:548: HessianInversionWarning: Inverting hessian failed, no bse or cov_params available\n",
      "  'available', HessianInversionWarning)\n",
      "C:\\Users\\kobi_z\\Anaconda3\\lib\\site-packages\\statsmodels\\base\\model.py:548: HessianInversionWarning: Inverting hessian failed, no bse or cov_params available\n",
      "  'available', HessianInversionWarning)\n",
      "C:\\Users\\kobi_z\\Anaconda3\\lib\\site-packages\\statsmodels\\base\\model.py:548: HessianInversionWarning: Inverting hessian failed, no bse or cov_params available\n",
      "  'available', HessianInversionWarning)\n",
      "C:\\Users\\kobi_z\\Anaconda3\\lib\\site-packages\\statsmodels\\base\\model.py:548: HessianInversionWarning: Inverting hessian failed, no bse or cov_params available\n",
      "  'available', HessianInversionWarning)\n",
      "C:\\Users\\kobi_z\\Anaconda3\\lib\\site-packages\\statsmodels\\base\\model.py:548: HessianInversionWarning: Inverting hessian failed, no bse or cov_params available\n",
      "  'available', HessianInversionWarning)\n",
      "C:\\Users\\kobi_z\\Anaconda3\\lib\\site-packages\\statsmodels\\base\\model.py:548: HessianInversionWarning: Inverting hessian failed, no bse or cov_params available\n",
      "  'available', HessianInversionWarning)\n",
      "C:\\Users\\kobi_z\\Anaconda3\\lib\\site-packages\\statsmodels\\base\\model.py:568: ConvergenceWarning: Maximum Likelihood optimization failed to converge. Check mle_retvals\n",
      "  \"Check mle_retvals\", ConvergenceWarning)\n",
      "C:\\Users\\kobi_z\\Anaconda3\\lib\\site-packages\\statsmodels\\base\\model.py:548: HessianInversionWarning: Inverting hessian failed, no bse or cov_params available\n",
      "  'available', HessianInversionWarning)\n",
      "C:\\Users\\kobi_z\\Anaconda3\\lib\\site-packages\\statsmodels\\base\\model.py:548: HessianInversionWarning: Inverting hessian failed, no bse or cov_params available\n",
      "  'available', HessianInversionWarning)\n",
      "C:\\Users\\kobi_z\\Anaconda3\\lib\\site-packages\\statsmodels\\base\\model.py:568: ConvergenceWarning: Maximum Likelihood optimization failed to converge. Check mle_retvals\n",
      "  \"Check mle_retvals\", ConvergenceWarning)\n",
      "C:\\Users\\kobi_z\\Anaconda3\\lib\\site-packages\\statsmodels\\base\\model.py:548: HessianInversionWarning: Inverting hessian failed, no bse or cov_params available\n",
      "  'available', HessianInversionWarning)\n",
      "C:\\Users\\kobi_z\\Anaconda3\\lib\\site-packages\\statsmodels\\base\\model.py:568: ConvergenceWarning: Maximum Likelihood optimization failed to converge. Check mle_retvals\n",
      "  \"Check mle_retvals\", ConvergenceWarning)\n",
      "C:\\Users\\kobi_z\\Anaconda3\\lib\\site-packages\\statsmodels\\base\\model.py:548: HessianInversionWarning: Inverting hessian failed, no bse or cov_params available\n",
      "  'available', HessianInversionWarning)\n",
      "C:\\Users\\kobi_z\\Anaconda3\\lib\\site-packages\\statsmodels\\base\\model.py:568: ConvergenceWarning: Maximum Likelihood optimization failed to converge. Check mle_retvals\n",
      "  \"Check mle_retvals\", ConvergenceWarning)\n"
     ]
    },
    {
     "name": "stderr",
     "output_type": "stream",
     "text": [
      "C:\\Users\\kobi_z\\Anaconda3\\lib\\site-packages\\statsmodels\\base\\model.py:548: HessianInversionWarning: Inverting hessian failed, no bse or cov_params available\n",
      "  'available', HessianInversionWarning)\n",
      "C:\\Users\\kobi_z\\Anaconda3\\lib\\site-packages\\statsmodels\\base\\model.py:568: ConvergenceWarning: Maximum Likelihood optimization failed to converge. Check mle_retvals\n",
      "  \"Check mle_retvals\", ConvergenceWarning)\n",
      "C:\\Users\\kobi_z\\Anaconda3\\lib\\site-packages\\statsmodels\\base\\model.py:548: HessianInversionWarning: Inverting hessian failed, no bse or cov_params available\n",
      "  'available', HessianInversionWarning)\n",
      "C:\\Users\\kobi_z\\Anaconda3\\lib\\site-packages\\statsmodels\\base\\model.py:568: ConvergenceWarning: Maximum Likelihood optimization failed to converge. Check mle_retvals\n",
      "  \"Check mle_retvals\", ConvergenceWarning)\n",
      "C:\\Users\\kobi_z\\Anaconda3\\lib\\site-packages\\statsmodels\\base\\model.py:548: HessianInversionWarning: Inverting hessian failed, no bse or cov_params available\n",
      "  'available', HessianInversionWarning)\n",
      "C:\\Users\\kobi_z\\Anaconda3\\lib\\site-packages\\statsmodels\\base\\model.py:568: ConvergenceWarning: Maximum Likelihood optimization failed to converge. Check mle_retvals\n",
      "  \"Check mle_retvals\", ConvergenceWarning)\n",
      "C:\\Users\\kobi_z\\Anaconda3\\lib\\site-packages\\statsmodels\\base\\model.py:548: HessianInversionWarning: Inverting hessian failed, no bse or cov_params available\n",
      "  'available', HessianInversionWarning)\n",
      "C:\\Users\\kobi_z\\Anaconda3\\lib\\site-packages\\statsmodels\\base\\model.py:568: ConvergenceWarning: Maximum Likelihood optimization failed to converge. Check mle_retvals\n",
      "  \"Check mle_retvals\", ConvergenceWarning)\n",
      "C:\\Users\\kobi_z\\Anaconda3\\lib\\site-packages\\statsmodels\\base\\model.py:568: ConvergenceWarning: Maximum Likelihood optimization failed to converge. Check mle_retvals\n",
      "  \"Check mle_retvals\", ConvergenceWarning)\n",
      "C:\\Users\\kobi_z\\Anaconda3\\lib\\site-packages\\statsmodels\\base\\model.py:568: ConvergenceWarning: Maximum Likelihood optimization failed to converge. Check mle_retvals\n",
      "  \"Check mle_retvals\", ConvergenceWarning)\n",
      "C:\\Users\\kobi_z\\Anaconda3\\lib\\site-packages\\statsmodels\\base\\model.py:548: HessianInversionWarning: Inverting hessian failed, no bse or cov_params available\n",
      "  'available', HessianInversionWarning)\n",
      "C:\\Users\\kobi_z\\Anaconda3\\lib\\site-packages\\statsmodels\\base\\model.py:568: ConvergenceWarning: Maximum Likelihood optimization failed to converge. Check mle_retvals\n",
      "  \"Check mle_retvals\", ConvergenceWarning)\n",
      "C:\\Users\\kobi_z\\Anaconda3\\lib\\site-packages\\statsmodels\\base\\model.py:548: HessianInversionWarning: Inverting hessian failed, no bse or cov_params available\n",
      "  'available', HessianInversionWarning)\n",
      "C:\\Users\\kobi_z\\Anaconda3\\lib\\site-packages\\statsmodels\\base\\model.py:548: HessianInversionWarning: Inverting hessian failed, no bse or cov_params available\n",
      "  'available', HessianInversionWarning)\n",
      "C:\\Users\\kobi_z\\Anaconda3\\lib\\site-packages\\statsmodels\\base\\model.py:548: HessianInversionWarning: Inverting hessian failed, no bse or cov_params available\n",
      "  'available', HessianInversionWarning)\n",
      "C:\\Users\\kobi_z\\Anaconda3\\lib\\site-packages\\statsmodels\\base\\model.py:548: HessianInversionWarning: Inverting hessian failed, no bse or cov_params available\n",
      "  'available', HessianInversionWarning)\n",
      "C:\\Users\\kobi_z\\Anaconda3\\lib\\site-packages\\statsmodels\\base\\model.py:568: ConvergenceWarning: Maximum Likelihood optimization failed to converge. Check mle_retvals\n",
      "  \"Check mle_retvals\", ConvergenceWarning)\n",
      "C:\\Users\\kobi_z\\Anaconda3\\lib\\site-packages\\statsmodels\\base\\model.py:548: HessianInversionWarning: Inverting hessian failed, no bse or cov_params available\n",
      "  'available', HessianInversionWarning)\n",
      "C:\\Users\\kobi_z\\Anaconda3\\lib\\site-packages\\statsmodels\\base\\model.py:568: ConvergenceWarning: Maximum Likelihood optimization failed to converge. Check mle_retvals\n",
      "  \"Check mle_retvals\", ConvergenceWarning)\n",
      "C:\\Users\\kobi_z\\Anaconda3\\lib\\site-packages\\statsmodels\\base\\model.py:548: HessianInversionWarning: Inverting hessian failed, no bse or cov_params available\n",
      "  'available', HessianInversionWarning)\n",
      "C:\\Users\\kobi_z\\Anaconda3\\lib\\site-packages\\statsmodels\\base\\model.py:568: ConvergenceWarning: Maximum Likelihood optimization failed to converge. Check mle_retvals\n",
      "  \"Check mle_retvals\", ConvergenceWarning)\n",
      "C:\\Users\\kobi_z\\Anaconda3\\lib\\site-packages\\statsmodels\\base\\model.py:548: HessianInversionWarning: Inverting hessian failed, no bse or cov_params available\n",
      "  'available', HessianInversionWarning)\n",
      "C:\\Users\\kobi_z\\Anaconda3\\lib\\site-packages\\statsmodels\\base\\model.py:568: ConvergenceWarning: Maximum Likelihood optimization failed to converge. Check mle_retvals\n",
      "  \"Check mle_retvals\", ConvergenceWarning)\n",
      "C:\\Users\\kobi_z\\Anaconda3\\lib\\site-packages\\statsmodels\\base\\model.py:548: HessianInversionWarning: Inverting hessian failed, no bse or cov_params available\n",
      "  'available', HessianInversionWarning)\n",
      "C:\\Users\\kobi_z\\Anaconda3\\lib\\site-packages\\statsmodels\\base\\model.py:568: ConvergenceWarning: Maximum Likelihood optimization failed to converge. Check mle_retvals\n",
      "  \"Check mle_retvals\", ConvergenceWarning)\n",
      "C:\\Users\\kobi_z\\Anaconda3\\lib\\site-packages\\statsmodels\\base\\model.py:548: HessianInversionWarning: Inverting hessian failed, no bse or cov_params available\n",
      "  'available', HessianInversionWarning)\n",
      "C:\\Users\\kobi_z\\Anaconda3\\lib\\site-packages\\statsmodels\\base\\model.py:568: ConvergenceWarning: Maximum Likelihood optimization failed to converge. Check mle_retvals\n",
      "  \"Check mle_retvals\", ConvergenceWarning)\n",
      "C:\\Users\\kobi_z\\Anaconda3\\lib\\site-packages\\statsmodels\\base\\model.py:548: HessianInversionWarning: Inverting hessian failed, no bse or cov_params available\n",
      "  'available', HessianInversionWarning)\n",
      "C:\\Users\\kobi_z\\Anaconda3\\lib\\site-packages\\statsmodels\\base\\model.py:568: ConvergenceWarning: Maximum Likelihood optimization failed to converge. Check mle_retvals\n",
      "  \"Check mle_retvals\", ConvergenceWarning)\n",
      "C:\\Users\\kobi_z\\Anaconda3\\lib\\site-packages\\statsmodels\\base\\model.py:548: HessianInversionWarning: Inverting hessian failed, no bse or cov_params available\n",
      "  'available', HessianInversionWarning)\n",
      "C:\\Users\\kobi_z\\Anaconda3\\lib\\site-packages\\statsmodels\\base\\model.py:568: ConvergenceWarning: Maximum Likelihood optimization failed to converge. Check mle_retvals\n",
      "  \"Check mle_retvals\", ConvergenceWarning)\n",
      "C:\\Users\\kobi_z\\Anaconda3\\lib\\site-packages\\statsmodels\\base\\model.py:548: HessianInversionWarning: Inverting hessian failed, no bse or cov_params available\n",
      "  'available', HessianInversionWarning)\n",
      "C:\\Users\\kobi_z\\Anaconda3\\lib\\site-packages\\statsmodels\\base\\model.py:568: ConvergenceWarning: Maximum Likelihood optimization failed to converge. Check mle_retvals\n",
      "  \"Check mle_retvals\", ConvergenceWarning)\n",
      "C:\\Users\\kobi_z\\Anaconda3\\lib\\site-packages\\statsmodels\\base\\model.py:548: HessianInversionWarning: Inverting hessian failed, no bse or cov_params available\n",
      "  'available', HessianInversionWarning)\n",
      "C:\\Users\\kobi_z\\Anaconda3\\lib\\site-packages\\statsmodels\\base\\model.py:548: HessianInversionWarning: Inverting hessian failed, no bse or cov_params available\n",
      "  'available', HessianInversionWarning)\n",
      "C:\\Users\\kobi_z\\Anaconda3\\lib\\site-packages\\statsmodels\\base\\model.py:548: HessianInversionWarning: Inverting hessian failed, no bse or cov_params available\n",
      "  'available', HessianInversionWarning)\n",
      "C:\\Users\\kobi_z\\Anaconda3\\lib\\site-packages\\statsmodels\\base\\model.py:568: ConvergenceWarning: Maximum Likelihood optimization failed to converge. Check mle_retvals\n",
      "  \"Check mle_retvals\", ConvergenceWarning)\n",
      "C:\\Users\\kobi_z\\Anaconda3\\lib\\site-packages\\statsmodels\\base\\model.py:548: HessianInversionWarning: Inverting hessian failed, no bse or cov_params available\n",
      "  'available', HessianInversionWarning)\n",
      "C:\\Users\\kobi_z\\Anaconda3\\lib\\site-packages\\statsmodels\\base\\model.py:568: ConvergenceWarning: Maximum Likelihood optimization failed to converge. Check mle_retvals\n",
      "  \"Check mle_retvals\", ConvergenceWarning)\n",
      "C:\\Users\\kobi_z\\Anaconda3\\lib\\site-packages\\statsmodels\\base\\model.py:548: HessianInversionWarning: Inverting hessian failed, no bse or cov_params available\n",
      "  'available', HessianInversionWarning)\n",
      "C:\\Users\\kobi_z\\Anaconda3\\lib\\site-packages\\statsmodels\\base\\model.py:548: HessianInversionWarning: Inverting hessian failed, no bse or cov_params available\n",
      "  'available', HessianInversionWarning)\n"
     ]
    },
    {
     "name": "stderr",
     "output_type": "stream",
     "text": [
      "C:\\Users\\kobi_z\\Anaconda3\\lib\\site-packages\\statsmodels\\base\\model.py:548: HessianInversionWarning: Inverting hessian failed, no bse or cov_params available\n",
      "  'available', HessianInversionWarning)\n",
      "C:\\Users\\kobi_z\\Anaconda3\\lib\\site-packages\\statsmodels\\base\\model.py:568: ConvergenceWarning: Maximum Likelihood optimization failed to converge. Check mle_retvals\n",
      "  \"Check mle_retvals\", ConvergenceWarning)\n",
      "C:\\Users\\kobi_z\\Anaconda3\\lib\\site-packages\\statsmodels\\base\\model.py:548: HessianInversionWarning: Inverting hessian failed, no bse or cov_params available\n",
      "  'available', HessianInversionWarning)\n",
      "C:\\Users\\kobi_z\\Anaconda3\\lib\\site-packages\\statsmodels\\base\\model.py:568: ConvergenceWarning: Maximum Likelihood optimization failed to converge. Check mle_retvals\n",
      "  \"Check mle_retvals\", ConvergenceWarning)\n",
      "C:\\Users\\kobi_z\\Anaconda3\\lib\\site-packages\\statsmodels\\base\\model.py:548: HessianInversionWarning: Inverting hessian failed, no bse or cov_params available\n",
      "  'available', HessianInversionWarning)\n",
      "C:\\Users\\kobi_z\\Anaconda3\\lib\\site-packages\\statsmodels\\base\\model.py:568: ConvergenceWarning: Maximum Likelihood optimization failed to converge. Check mle_retvals\n",
      "  \"Check mle_retvals\", ConvergenceWarning)\n",
      "C:\\Users\\kobi_z\\Anaconda3\\lib\\site-packages\\statsmodels\\base\\model.py:548: HessianInversionWarning: Inverting hessian failed, no bse or cov_params available\n",
      "  'available', HessianInversionWarning)\n",
      "C:\\Users\\kobi_z\\Anaconda3\\lib\\site-packages\\statsmodels\\base\\model.py:568: ConvergenceWarning: Maximum Likelihood optimization failed to converge. Check mle_retvals\n",
      "  \"Check mle_retvals\", ConvergenceWarning)\n",
      "C:\\Users\\kobi_z\\Anaconda3\\lib\\site-packages\\statsmodels\\base\\model.py:548: HessianInversionWarning: Inverting hessian failed, no bse or cov_params available\n",
      "  'available', HessianInversionWarning)\n",
      "C:\\Users\\kobi_z\\Anaconda3\\lib\\site-packages\\statsmodels\\base\\model.py:568: ConvergenceWarning: Maximum Likelihood optimization failed to converge. Check mle_retvals\n",
      "  \"Check mle_retvals\", ConvergenceWarning)\n",
      "C:\\Users\\kobi_z\\Anaconda3\\lib\\site-packages\\statsmodels\\base\\model.py:548: HessianInversionWarning: Inverting hessian failed, no bse or cov_params available\n",
      "  'available', HessianInversionWarning)\n",
      "C:\\Users\\kobi_z\\Anaconda3\\lib\\site-packages\\statsmodels\\base\\model.py:568: ConvergenceWarning: Maximum Likelihood optimization failed to converge. Check mle_retvals\n",
      "  \"Check mle_retvals\", ConvergenceWarning)\n",
      "C:\\Users\\kobi_z\\Anaconda3\\lib\\site-packages\\statsmodels\\base\\model.py:548: HessianInversionWarning: Inverting hessian failed, no bse or cov_params available\n",
      "  'available', HessianInversionWarning)\n",
      "C:\\Users\\kobi_z\\Anaconda3\\lib\\site-packages\\statsmodels\\base\\model.py:568: ConvergenceWarning: Maximum Likelihood optimization failed to converge. Check mle_retvals\n",
      "  \"Check mle_retvals\", ConvergenceWarning)\n",
      "C:\\Users\\kobi_z\\Anaconda3\\lib\\site-packages\\statsmodels\\base\\model.py:548: HessianInversionWarning: Inverting hessian failed, no bse or cov_params available\n",
      "  'available', HessianInversionWarning)\n",
      "C:\\Users\\kobi_z\\Anaconda3\\lib\\site-packages\\statsmodels\\base\\model.py:548: HessianInversionWarning: Inverting hessian failed, no bse or cov_params available\n",
      "  'available', HessianInversionWarning)\n",
      "C:\\Users\\kobi_z\\Anaconda3\\lib\\site-packages\\statsmodels\\base\\model.py:568: ConvergenceWarning: Maximum Likelihood optimization failed to converge. Check mle_retvals\n",
      "  \"Check mle_retvals\", ConvergenceWarning)\n",
      "C:\\Users\\kobi_z\\Anaconda3\\lib\\site-packages\\statsmodels\\base\\model.py:548: HessianInversionWarning: Inverting hessian failed, no bse or cov_params available\n",
      "  'available', HessianInversionWarning)\n",
      "C:\\Users\\kobi_z\\Anaconda3\\lib\\site-packages\\statsmodels\\base\\model.py:568: ConvergenceWarning: Maximum Likelihood optimization failed to converge. Check mle_retvals\n",
      "  \"Check mle_retvals\", ConvergenceWarning)\n",
      "C:\\Users\\kobi_z\\Anaconda3\\lib\\site-packages\\statsmodels\\base\\model.py:548: HessianInversionWarning: Inverting hessian failed, no bse or cov_params available\n",
      "  'available', HessianInversionWarning)\n",
      "C:\\Users\\kobi_z\\Anaconda3\\lib\\site-packages\\statsmodels\\base\\model.py:568: ConvergenceWarning: Maximum Likelihood optimization failed to converge. Check mle_retvals\n",
      "  \"Check mle_retvals\", ConvergenceWarning)\n",
      "C:\\Users\\kobi_z\\Anaconda3\\lib\\site-packages\\statsmodels\\base\\model.py:568: ConvergenceWarning: Maximum Likelihood optimization failed to converge. Check mle_retvals\n",
      "  \"Check mle_retvals\", ConvergenceWarning)\n",
      "C:\\Users\\kobi_z\\Anaconda3\\lib\\site-packages\\statsmodels\\base\\model.py:548: HessianInversionWarning: Inverting hessian failed, no bse or cov_params available\n",
      "  'available', HessianInversionWarning)\n",
      "C:\\Users\\kobi_z\\Anaconda3\\lib\\site-packages\\statsmodels\\base\\model.py:548: HessianInversionWarning: Inverting hessian failed, no bse or cov_params available\n",
      "  'available', HessianInversionWarning)\n",
      "C:\\Users\\kobi_z\\Anaconda3\\lib\\site-packages\\statsmodels\\base\\model.py:568: ConvergenceWarning: Maximum Likelihood optimization failed to converge. Check mle_retvals\n",
      "  \"Check mle_retvals\", ConvergenceWarning)\n",
      "C:\\Users\\kobi_z\\Anaconda3\\lib\\site-packages\\statsmodels\\base\\model.py:548: HessianInversionWarning: Inverting hessian failed, no bse or cov_params available\n",
      "  'available', HessianInversionWarning)\n",
      "C:\\Users\\kobi_z\\Anaconda3\\lib\\site-packages\\statsmodels\\base\\model.py:568: ConvergenceWarning: Maximum Likelihood optimization failed to converge. Check mle_retvals\n",
      "  \"Check mle_retvals\", ConvergenceWarning)\n",
      "C:\\Users\\kobi_z\\Anaconda3\\lib\\site-packages\\statsmodels\\base\\model.py:548: HessianInversionWarning: Inverting hessian failed, no bse or cov_params available\n",
      "  'available', HessianInversionWarning)\n",
      "C:\\Users\\kobi_z\\Anaconda3\\lib\\site-packages\\statsmodels\\base\\model.py:548: HessianInversionWarning: Inverting hessian failed, no bse or cov_params available\n",
      "  'available', HessianInversionWarning)\n",
      "C:\\Users\\kobi_z\\Anaconda3\\lib\\site-packages\\statsmodels\\base\\model.py:548: HessianInversionWarning: Inverting hessian failed, no bse or cov_params available\n",
      "  'available', HessianInversionWarning)\n",
      "C:\\Users\\kobi_z\\Anaconda3\\lib\\site-packages\\statsmodels\\base\\model.py:548: HessianInversionWarning: Inverting hessian failed, no bse or cov_params available\n",
      "  'available', HessianInversionWarning)\n",
      "C:\\Users\\kobi_z\\Anaconda3\\lib\\site-packages\\statsmodels\\base\\model.py:568: ConvergenceWarning: Maximum Likelihood optimization failed to converge. Check mle_retvals\n",
      "  \"Check mle_retvals\", ConvergenceWarning)\n",
      "C:\\Users\\kobi_z\\Anaconda3\\lib\\site-packages\\statsmodels\\base\\model.py:548: HessianInversionWarning: Inverting hessian failed, no bse or cov_params available\n",
      "  'available', HessianInversionWarning)\n",
      "C:\\Users\\kobi_z\\Anaconda3\\lib\\site-packages\\statsmodels\\base\\model.py:548: HessianInversionWarning: Inverting hessian failed, no bse or cov_params available\n",
      "  'available', HessianInversionWarning)\n",
      "C:\\Users\\kobi_z\\Anaconda3\\lib\\site-packages\\statsmodels\\base\\model.py:568: ConvergenceWarning: Maximum Likelihood optimization failed to converge. Check mle_retvals\n",
      "  \"Check mle_retvals\", ConvergenceWarning)\n",
      "C:\\Users\\kobi_z\\Anaconda3\\lib\\site-packages\\statsmodels\\base\\model.py:548: HessianInversionWarning: Inverting hessian failed, no bse or cov_params available\n",
      "  'available', HessianInversionWarning)\n",
      "C:\\Users\\kobi_z\\Anaconda3\\lib\\site-packages\\statsmodels\\base\\model.py:568: ConvergenceWarning: Maximum Likelihood optimization failed to converge. Check mle_retvals\n",
      "  \"Check mle_retvals\", ConvergenceWarning)\n",
      "C:\\Users\\kobi_z\\Anaconda3\\lib\\site-packages\\statsmodels\\base\\model.py:548: HessianInversionWarning: Inverting hessian failed, no bse or cov_params available\n",
      "  'available', HessianInversionWarning)\n",
      "C:\\Users\\kobi_z\\Anaconda3\\lib\\site-packages\\statsmodels\\base\\model.py:548: HessianInversionWarning: Inverting hessian failed, no bse or cov_params available\n",
      "  'available', HessianInversionWarning)\n",
      "C:\\Users\\kobi_z\\Anaconda3\\lib\\site-packages\\statsmodels\\base\\model.py:548: HessianInversionWarning: Inverting hessian failed, no bse or cov_params available\n",
      "  'available', HessianInversionWarning)\n",
      "C:\\Users\\kobi_z\\Anaconda3\\lib\\site-packages\\statsmodels\\base\\model.py:548: HessianInversionWarning: Inverting hessian failed, no bse or cov_params available\n",
      "  'available', HessianInversionWarning)\n",
      "C:\\Users\\kobi_z\\Anaconda3\\lib\\site-packages\\statsmodels\\base\\model.py:568: ConvergenceWarning: Maximum Likelihood optimization failed to converge. Check mle_retvals\n",
      "  \"Check mle_retvals\", ConvergenceWarning)\n",
      "C:\\Users\\kobi_z\\Anaconda3\\lib\\site-packages\\statsmodels\\base\\model.py:548: HessianInversionWarning: Inverting hessian failed, no bse or cov_params available\n",
      "  'available', HessianInversionWarning)\n",
      "C:\\Users\\kobi_z\\Anaconda3\\lib\\site-packages\\statsmodels\\base\\model.py:568: ConvergenceWarning: Maximum Likelihood optimization failed to converge. Check mle_retvals\n",
      "  \"Check mle_retvals\", ConvergenceWarning)\n"
     ]
    },
    {
     "name": "stderr",
     "output_type": "stream",
     "text": [
      "C:\\Users\\kobi_z\\Anaconda3\\lib\\site-packages\\statsmodels\\base\\model.py:548: HessianInversionWarning: Inverting hessian failed, no bse or cov_params available\n",
      "  'available', HessianInversionWarning)\n",
      "C:\\Users\\kobi_z\\Anaconda3\\lib\\site-packages\\statsmodels\\base\\model.py:568: ConvergenceWarning: Maximum Likelihood optimization failed to converge. Check mle_retvals\n",
      "  \"Check mle_retvals\", ConvergenceWarning)\n",
      "C:\\Users\\kobi_z\\Anaconda3\\lib\\site-packages\\statsmodels\\base\\model.py:548: HessianInversionWarning: Inverting hessian failed, no bse or cov_params available\n",
      "  'available', HessianInversionWarning)\n",
      "C:\\Users\\kobi_z\\Anaconda3\\lib\\site-packages\\statsmodels\\base\\model.py:568: ConvergenceWarning: Maximum Likelihood optimization failed to converge. Check mle_retvals\n",
      "  \"Check mle_retvals\", ConvergenceWarning)\n",
      "C:\\Users\\kobi_z\\Anaconda3\\lib\\site-packages\\statsmodels\\base\\model.py:548: HessianInversionWarning: Inverting hessian failed, no bse or cov_params available\n",
      "  'available', HessianInversionWarning)\n",
      "C:\\Users\\kobi_z\\Anaconda3\\lib\\site-packages\\statsmodels\\base\\model.py:548: HessianInversionWarning: Inverting hessian failed, no bse or cov_params available\n",
      "  'available', HessianInversionWarning)\n",
      "C:\\Users\\kobi_z\\Anaconda3\\lib\\site-packages\\statsmodels\\base\\model.py:568: ConvergenceWarning: Maximum Likelihood optimization failed to converge. Check mle_retvals\n",
      "  \"Check mle_retvals\", ConvergenceWarning)\n",
      "C:\\Users\\kobi_z\\Anaconda3\\lib\\site-packages\\statsmodels\\base\\model.py:548: HessianInversionWarning: Inverting hessian failed, no bse or cov_params available\n",
      "  'available', HessianInversionWarning)\n",
      "C:\\Users\\kobi_z\\Anaconda3\\lib\\site-packages\\statsmodels\\base\\model.py:568: ConvergenceWarning: Maximum Likelihood optimization failed to converge. Check mle_retvals\n",
      "  \"Check mle_retvals\", ConvergenceWarning)\n",
      "C:\\Users\\kobi_z\\Anaconda3\\lib\\site-packages\\statsmodels\\base\\model.py:548: HessianInversionWarning: Inverting hessian failed, no bse or cov_params available\n",
      "  'available', HessianInversionWarning)\n",
      "C:\\Users\\kobi_z\\Anaconda3\\lib\\site-packages\\statsmodels\\base\\model.py:568: ConvergenceWarning: Maximum Likelihood optimization failed to converge. Check mle_retvals\n",
      "  \"Check mle_retvals\", ConvergenceWarning)\n",
      "C:\\Users\\kobi_z\\Anaconda3\\lib\\site-packages\\statsmodels\\base\\model.py:548: HessianInversionWarning: Inverting hessian failed, no bse or cov_params available\n",
      "  'available', HessianInversionWarning)\n",
      "C:\\Users\\kobi_z\\Anaconda3\\lib\\site-packages\\statsmodels\\base\\model.py:568: ConvergenceWarning: Maximum Likelihood optimization failed to converge. Check mle_retvals\n",
      "  \"Check mle_retvals\", ConvergenceWarning)\n",
      "C:\\Users\\kobi_z\\Anaconda3\\lib\\site-packages\\statsmodels\\base\\model.py:548: HessianInversionWarning: Inverting hessian failed, no bse or cov_params available\n",
      "  'available', HessianInversionWarning)\n",
      "C:\\Users\\kobi_z\\Anaconda3\\lib\\site-packages\\statsmodels\\base\\model.py:568: ConvergenceWarning: Maximum Likelihood optimization failed to converge. Check mle_retvals\n",
      "  \"Check mle_retvals\", ConvergenceWarning)\n",
      "C:\\Users\\kobi_z\\Anaconda3\\lib\\site-packages\\statsmodels\\base\\model.py:548: HessianInversionWarning: Inverting hessian failed, no bse or cov_params available\n",
      "  'available', HessianInversionWarning)\n",
      "C:\\Users\\kobi_z\\Anaconda3\\lib\\site-packages\\statsmodels\\base\\model.py:568: ConvergenceWarning: Maximum Likelihood optimization failed to converge. Check mle_retvals\n",
      "  \"Check mle_retvals\", ConvergenceWarning)\n",
      "C:\\Users\\kobi_z\\Anaconda3\\lib\\site-packages\\statsmodels\\base\\model.py:548: HessianInversionWarning: Inverting hessian failed, no bse or cov_params available\n",
      "  'available', HessianInversionWarning)\n",
      "C:\\Users\\kobi_z\\Anaconda3\\lib\\site-packages\\statsmodels\\base\\model.py:568: ConvergenceWarning: Maximum Likelihood optimization failed to converge. Check mle_retvals\n",
      "  \"Check mle_retvals\", ConvergenceWarning)\n",
      "C:\\Users\\kobi_z\\Anaconda3\\lib\\site-packages\\statsmodels\\base\\model.py:548: HessianInversionWarning: Inverting hessian failed, no bse or cov_params available\n",
      "  'available', HessianInversionWarning)\n",
      "C:\\Users\\kobi_z\\Anaconda3\\lib\\site-packages\\statsmodels\\base\\model.py:568: ConvergenceWarning: Maximum Likelihood optimization failed to converge. Check mle_retvals\n",
      "  \"Check mle_retvals\", ConvergenceWarning)\n",
      "C:\\Users\\kobi_z\\Anaconda3\\lib\\site-packages\\statsmodels\\base\\model.py:548: HessianInversionWarning: Inverting hessian failed, no bse or cov_params available\n",
      "  'available', HessianInversionWarning)\n",
      "C:\\Users\\kobi_z\\Anaconda3\\lib\\site-packages\\statsmodels\\base\\model.py:548: HessianInversionWarning: Inverting hessian failed, no bse or cov_params available\n",
      "  'available', HessianInversionWarning)\n",
      "C:\\Users\\kobi_z\\Anaconda3\\lib\\site-packages\\statsmodels\\base\\model.py:548: HessianInversionWarning: Inverting hessian failed, no bse or cov_params available\n",
      "  'available', HessianInversionWarning)\n",
      "C:\\Users\\kobi_z\\Anaconda3\\lib\\site-packages\\statsmodels\\base\\model.py:548: HessianInversionWarning: Inverting hessian failed, no bse or cov_params available\n",
      "  'available', HessianInversionWarning)\n",
      "C:\\Users\\kobi_z\\Anaconda3\\lib\\site-packages\\statsmodels\\base\\model.py:568: ConvergenceWarning: Maximum Likelihood optimization failed to converge. Check mle_retvals\n",
      "  \"Check mle_retvals\", ConvergenceWarning)\n",
      "C:\\Users\\kobi_z\\Anaconda3\\lib\\site-packages\\statsmodels\\base\\model.py:548: HessianInversionWarning: Inverting hessian failed, no bse or cov_params available\n",
      "  'available', HessianInversionWarning)\n",
      "C:\\Users\\kobi_z\\Anaconda3\\lib\\site-packages\\statsmodels\\base\\model.py:548: HessianInversionWarning: Inverting hessian failed, no bse or cov_params available\n",
      "  'available', HessianInversionWarning)\n",
      "C:\\Users\\kobi_z\\Anaconda3\\lib\\site-packages\\statsmodels\\base\\model.py:568: ConvergenceWarning: Maximum Likelihood optimization failed to converge. Check mle_retvals\n",
      "  \"Check mle_retvals\", ConvergenceWarning)\n",
      "C:\\Users\\kobi_z\\Anaconda3\\lib\\site-packages\\statsmodels\\base\\model.py:548: HessianInversionWarning: Inverting hessian failed, no bse or cov_params available\n",
      "  'available', HessianInversionWarning)\n",
      "C:\\Users\\kobi_z\\Anaconda3\\lib\\site-packages\\statsmodels\\base\\model.py:568: ConvergenceWarning: Maximum Likelihood optimization failed to converge. Check mle_retvals\n",
      "  \"Check mle_retvals\", ConvergenceWarning)\n",
      "C:\\Users\\kobi_z\\Anaconda3\\lib\\site-packages\\statsmodels\\base\\model.py:548: HessianInversionWarning: Inverting hessian failed, no bse or cov_params available\n",
      "  'available', HessianInversionWarning)\n",
      "C:\\Users\\kobi_z\\Anaconda3\\lib\\site-packages\\statsmodels\\base\\model.py:568: ConvergenceWarning: Maximum Likelihood optimization failed to converge. Check mle_retvals\n",
      "  \"Check mle_retvals\", ConvergenceWarning)\n",
      "C:\\Users\\kobi_z\\Anaconda3\\lib\\site-packages\\statsmodels\\base\\model.py:548: HessianInversionWarning: Inverting hessian failed, no bse or cov_params available\n",
      "  'available', HessianInversionWarning)\n",
      "C:\\Users\\kobi_z\\Anaconda3\\lib\\site-packages\\statsmodels\\base\\model.py:548: HessianInversionWarning: Inverting hessian failed, no bse or cov_params available\n",
      "  'available', HessianInversionWarning)\n",
      "C:\\Users\\kobi_z\\Anaconda3\\lib\\site-packages\\statsmodels\\base\\model.py:568: ConvergenceWarning: Maximum Likelihood optimization failed to converge. Check mle_retvals\n",
      "  \"Check mle_retvals\", ConvergenceWarning)\n",
      "C:\\Users\\kobi_z\\Anaconda3\\lib\\site-packages\\statsmodels\\base\\model.py:548: HessianInversionWarning: Inverting hessian failed, no bse or cov_params available\n",
      "  'available', HessianInversionWarning)\n",
      "C:\\Users\\kobi_z\\Anaconda3\\lib\\site-packages\\statsmodels\\base\\model.py:568: ConvergenceWarning: Maximum Likelihood optimization failed to converge. Check mle_retvals\n",
      "  \"Check mle_retvals\", ConvergenceWarning)\n",
      "C:\\Users\\kobi_z\\Anaconda3\\lib\\site-packages\\statsmodels\\base\\model.py:548: HessianInversionWarning: Inverting hessian failed, no bse or cov_params available\n",
      "  'available', HessianInversionWarning)\n",
      "C:\\Users\\kobi_z\\Anaconda3\\lib\\site-packages\\statsmodels\\base\\model.py:568: ConvergenceWarning: Maximum Likelihood optimization failed to converge. Check mle_retvals\n",
      "  \"Check mle_retvals\", ConvergenceWarning)\n",
      "C:\\Users\\kobi_z\\Anaconda3\\lib\\site-packages\\statsmodels\\base\\model.py:548: HessianInversionWarning: Inverting hessian failed, no bse or cov_params available\n",
      "  'available', HessianInversionWarning)\n",
      "C:\\Users\\kobi_z\\Anaconda3\\lib\\site-packages\\statsmodels\\base\\model.py:568: ConvergenceWarning: Maximum Likelihood optimization failed to converge. Check mle_retvals\n",
      "  \"Check mle_retvals\", ConvergenceWarning)\n"
     ]
    },
    {
     "name": "stderr",
     "output_type": "stream",
     "text": [
      "C:\\Users\\kobi_z\\Anaconda3\\lib\\site-packages\\statsmodels\\base\\model.py:548: HessianInversionWarning: Inverting hessian failed, no bse or cov_params available\n",
      "  'available', HessianInversionWarning)\n",
      "C:\\Users\\kobi_z\\Anaconda3\\lib\\site-packages\\statsmodels\\base\\model.py:548: HessianInversionWarning: Inverting hessian failed, no bse or cov_params available\n",
      "  'available', HessianInversionWarning)\n",
      "C:\\Users\\kobi_z\\Anaconda3\\lib\\site-packages\\statsmodels\\base\\model.py:548: HessianInversionWarning: Inverting hessian failed, no bse or cov_params available\n",
      "  'available', HessianInversionWarning)\n",
      "C:\\Users\\kobi_z\\Anaconda3\\lib\\site-packages\\statsmodels\\base\\model.py:548: HessianInversionWarning: Inverting hessian failed, no bse or cov_params available\n",
      "  'available', HessianInversionWarning)\n",
      "C:\\Users\\kobi_z\\Anaconda3\\lib\\site-packages\\statsmodels\\base\\model.py:568: ConvergenceWarning: Maximum Likelihood optimization failed to converge. Check mle_retvals\n",
      "  \"Check mle_retvals\", ConvergenceWarning)\n",
      "C:\\Users\\kobi_z\\Anaconda3\\lib\\site-packages\\statsmodels\\base\\model.py:548: HessianInversionWarning: Inverting hessian failed, no bse or cov_params available\n",
      "  'available', HessianInversionWarning)\n",
      "C:\\Users\\kobi_z\\Anaconda3\\lib\\site-packages\\statsmodels\\base\\model.py:568: ConvergenceWarning: Maximum Likelihood optimization failed to converge. Check mle_retvals\n",
      "  \"Check mle_retvals\", ConvergenceWarning)\n",
      "C:\\Users\\kobi_z\\Anaconda3\\lib\\site-packages\\statsmodels\\base\\model.py:548: HessianInversionWarning: Inverting hessian failed, no bse or cov_params available\n",
      "  'available', HessianInversionWarning)\n",
      "C:\\Users\\kobi_z\\Anaconda3\\lib\\site-packages\\statsmodels\\base\\model.py:568: ConvergenceWarning: Maximum Likelihood optimization failed to converge. Check mle_retvals\n",
      "  \"Check mle_retvals\", ConvergenceWarning)\n",
      "C:\\Users\\kobi_z\\Anaconda3\\lib\\site-packages\\statsmodels\\base\\model.py:548: HessianInversionWarning: Inverting hessian failed, no bse or cov_params available\n",
      "  'available', HessianInversionWarning)\n",
      "C:\\Users\\kobi_z\\Anaconda3\\lib\\site-packages\\statsmodels\\base\\model.py:568: ConvergenceWarning: Maximum Likelihood optimization failed to converge. Check mle_retvals\n",
      "  \"Check mle_retvals\", ConvergenceWarning)\n",
      "C:\\Users\\kobi_z\\Anaconda3\\lib\\site-packages\\statsmodels\\base\\model.py:548: HessianInversionWarning: Inverting hessian failed, no bse or cov_params available\n",
      "  'available', HessianInversionWarning)\n"
     ]
    }
   ],
   "source": [
    "y_pred=[]\n",
    "for user in df_train_arima['user'].unique():\n",
    "    df_user=df_train[df_train['user_id']==user]\n",
    "    df_user['date']=df_user['placed_time'].dt.date\n",
    "    df_ar=df_user.copy()\n",
    "    df_ar=df_ar.set_index('date')\n",
    "    df_ar.freebet_stake=df_ar.freebet_stake.fillna(value=0,inplace=False)\n",
    "    df_ar=df_ar.sort_index()\n",
    "    df_ar['in_out']=np.where((df_ar['settlement_status']=='DEPOSIT')|(df_ar['settlement_status']=='WITHDRAWAL'),df_ar['win_or_lose_amount'],0)\n",
    "    \n",
    "    df_ar['GGR']=0\n",
    "    df_ar['NGR']=0\n",
    "    GGR=0\n",
    "    NGR=0\n",
    "\n",
    "    for i,inout in enumerate(df_ar['in_out']):\n",
    "        if (i==0)&(inout==0):\n",
    "            df_ar['GGR'][i]=GGR\n",
    "            NGR=NGR+df_ar['freebet_stake'][i]\n",
    "            df_ar['NGR'][i]=GGR-NGR\n",
    "      \n",
    "        elif (i==0)&(inout!=0):\n",
    "            if df_ar['settlement_status'][i]=='DEPOSIT':\n",
    "                GGR=GGR+inout\n",
    "                df_ar['GGR'][i]=GGR\n",
    "                NGR=NGR+df_ar['freebet_stake'][i]\n",
    "                df_ar['NGR'][i]=GGR-NGR\n",
    "            else:\n",
    "                GGR=GGR-inout\n",
    "                df_ar['GGR'][i]=GGR\n",
    "                NGR=NGR+df_ar['freebet_stake'][i]\n",
    "                df_ar['NGR'][i]=GGR-NGR\n",
    "            \n",
    "        elif inout>0:\n",
    "            if df_ar['settlement_status'][i]=='DEPOSIT':\n",
    "                GGR=GGR+inout\n",
    "                df_ar['GGR'][i]=GGR\n",
    "                NGR=NGR+df_ar['freebet_stake'][i]\n",
    "                df_ar['NGR'][i]=GGR-NGR\n",
    "            else:\n",
    "                GGR=GGR-inout\n",
    "                df_ar['GGR'][i]=GGR \n",
    "                NGR=NGR+df_ar['freebet_stake'][i]\n",
    "                df_ar['NGR'][i]=GGR-NGR\n",
    "    \n",
    "        elif inout==0:\n",
    "            df_ar['GGR'][i]=GGR\n",
    "            NGR=NGR+df_ar['freebet_stake'][i]\n",
    "            df_ar['NGR'][i]=GGR-NGR\n",
    "    \n",
    "    \n",
    "    df_arima=df_ar[['GGR','NGR']]\n",
    "    df_arima['Stake_ratio']=pd.DataFrame(df_ar.groupby('date')['total_stake'].sum())['total_stake'].cumsum().mul(0.14)\n",
    "    \n",
    "    df_arima_NGR=pd.DataFrame(df_arima.groupby('date')['NGR'].last())\n",
    "    df_arima_GGR=pd.DataFrame(df_arima.groupby('date')['GGR'].last())\n",
    "    df_arima_Stake_r=pd.DataFrame(df_arima.groupby('date')['Stake_ratio'].last())\n",
    "\n",
    "    \n",
    "    if df_arima_Stake_r.shape[0]<21:\n",
    "        start_date=df_arima.index[0]\n",
    "        end_date=start_date+datetime.timedelta(21)\n",
    "        df_arima_NGR.loc[end_date]=np.nan\n",
    "        df_arima_GGR.loc[end_date]=np.nan\n",
    "        df_arima_Stake_r.loc[end_date]=np.nan\n",
    "    else:\n",
    "        pass\n",
    "        \n",
    "    df_arima_NGR=df_arima_NGR.asfreq('d')\n",
    "    df_arima_GGR=df_arima_GGR.asfreq('d')\n",
    "    df_arima_Stake_r=df_arima_Stake_r.asfreq('d')\n",
    "\n",
    "\n",
    "    df_arima_NGR=df_arima_NGR.fillna(method='ffill')\n",
    "    df_arima_GGR=df_arima_GGR.fillna(method='ffill')\n",
    "    df_arima_Stake_r=df_arima_Stake_r.fillna(method='ffill')\n",
    "    df_arima_Stake_r=df_arima_Stake_r.fillna(0)\n",
    "\n",
    "    \n",
    "    \n",
    "    ar_model_stake_r=ARIMA(df_arima_Stake_r,order=(1,0,1))\n",
    "    ar_model_stake_r_results=ar_model_stake_r.fit(start_params=(2,0,0))\n",
    "    stake_r_pred=ar_model_stake_r_results.predict(end=90)[90]\n",
    "    exog=ar_model_stake_r_results.predict(end=90)\n",
    "    \n",
    "    try:\n",
    "        #end_data=df_arima_NGR.shape[0]\n",
    "        end_data=21\n",
    "    \n",
    "        ar_model_NGR=ARIMA(df_arima_NGR,order=(1,0,1),exog=exog[:end_data])\n",
    "        ar_model_NGR_results=ar_model_NGR.fit(start_params=(2,0,0,0))\n",
    "        NGR_pred=ar_model_NGR_results.predict(end=90,exog=exog)[90]\n",
    "        \n",
    "        ar_model_GGR=ARIMA(df_arima_GGR,order=(1,0,1),exog=exog[:end_data])\n",
    "        ar_model_GGR_results=ar_model_GGR.fit(start_params=(2,0,0,0))\n",
    "        GGR_pred=ar_model_GGR_results.predict(end=90,exog=exog)[90]\n",
    "   \n",
    "    except: \n",
    "        ValueError\n",
    "        \n",
    "        ar_model_NGR=ARIMA(df_arima_NGR,order=(1,0,1))\n",
    "        ar_model_NGR_results=ar_model_NGR.fit(start_params=(2,0,0))\n",
    "        NGR_pred=ar_model_NGR_results.predict(end=90)[90]\n",
    "        \n",
    "        ar_model_GGR=ARIMA(df_arima_GGR,order=(1,0,1))\n",
    "        ar_model_GGR_results=ar_model_GGR.fit(start_params=(2,0,0))\n",
    "        GGR_pred=ar_model_GGR_results.predict(end=90)[90]\n",
    "   \n",
    "         \n",
    "    y_pred.append([user,NGR_pred,GGR_pred,stake_r_pred])"
   ]
  },
  {
   "cell_type": "code",
   "execution_count": 125,
   "metadata": {},
   "outputs": [],
   "source": [
    "arima_pred=pd.DataFrame(y_pred)\n",
    "arima_pred.columns=['user','y_hat_NGR','y_hat_GGR','y_hat_stake_ratio']\n",
    "arima_pred_df=pd.merge(left=arima_pred,right=player_char_df_y,left_on='user',right_on='user')"
   ]
  },
  {
   "cell_type": "code",
   "execution_count": 126,
   "metadata": {},
   "outputs": [
    {
     "data": {
      "text/html": [
       "<div>\n",
       "<style scoped>\n",
       "    .dataframe tbody tr th:only-of-type {\n",
       "        vertical-align: middle;\n",
       "    }\n",
       "\n",
       "    .dataframe tbody tr th {\n",
       "        vertical-align: top;\n",
       "    }\n",
       "\n",
       "    .dataframe thead th {\n",
       "        text-align: right;\n",
       "    }\n",
       "</style>\n",
       "<table border=\"1\" class=\"dataframe\">\n",
       "  <thead>\n",
       "    <tr style=\"text-align: right;\">\n",
       "      <th></th>\n",
       "      <th>user</th>\n",
       "      <th>y_hat_NGR</th>\n",
       "      <th>y_hat_GGR</th>\n",
       "      <th>y_hat_stake_ratio</th>\n",
       "      <th>GGR_y</th>\n",
       "      <th>NGR_y</th>\n",
       "      <th>Stake_ratio_y</th>\n",
       "    </tr>\n",
       "  </thead>\n",
       "  <tbody>\n",
       "    <tr>\n",
       "      <th>user</th>\n",
       "      <td>1.000000</td>\n",
       "      <td>-0.013887</td>\n",
       "      <td>-0.012368</td>\n",
       "      <td>0.007938</td>\n",
       "      <td>-0.037082</td>\n",
       "      <td>-0.037124</td>\n",
       "      <td>-0.015652</td>\n",
       "    </tr>\n",
       "    <tr>\n",
       "      <th>y_hat_NGR</th>\n",
       "      <td>-0.013887</td>\n",
       "      <td>1.000000</td>\n",
       "      <td>0.998221</td>\n",
       "      <td>0.755509</td>\n",
       "      <td>0.728748</td>\n",
       "      <td>0.727984</td>\n",
       "      <td>0.712438</td>\n",
       "    </tr>\n",
       "    <tr>\n",
       "      <th>y_hat_GGR</th>\n",
       "      <td>-0.012368</td>\n",
       "      <td>0.998221</td>\n",
       "      <td>1.000000</td>\n",
       "      <td>0.756778</td>\n",
       "      <td>0.736266</td>\n",
       "      <td>0.733278</td>\n",
       "      <td>0.715824</td>\n",
       "    </tr>\n",
       "    <tr>\n",
       "      <th>y_hat_stake_ratio</th>\n",
       "      <td>0.007938</td>\n",
       "      <td>0.755509</td>\n",
       "      <td>0.756778</td>\n",
       "      <td>1.000000</td>\n",
       "      <td>0.569462</td>\n",
       "      <td>0.567028</td>\n",
       "      <td>0.906752</td>\n",
       "    </tr>\n",
       "    <tr>\n",
       "      <th>GGR_y</th>\n",
       "      <td>-0.037082</td>\n",
       "      <td>0.728748</td>\n",
       "      <td>0.736266</td>\n",
       "      <td>0.569462</td>\n",
       "      <td>1.000000</td>\n",
       "      <td>0.997728</td>\n",
       "      <td>0.620521</td>\n",
       "    </tr>\n",
       "    <tr>\n",
       "      <th>NGR_y</th>\n",
       "      <td>-0.037124</td>\n",
       "      <td>0.727984</td>\n",
       "      <td>0.733278</td>\n",
       "      <td>0.567028</td>\n",
       "      <td>0.997728</td>\n",
       "      <td>1.000000</td>\n",
       "      <td>0.610961</td>\n",
       "    </tr>\n",
       "    <tr>\n",
       "      <th>Stake_ratio_y</th>\n",
       "      <td>-0.015652</td>\n",
       "      <td>0.712438</td>\n",
       "      <td>0.715824</td>\n",
       "      <td>0.906752</td>\n",
       "      <td>0.620521</td>\n",
       "      <td>0.610961</td>\n",
       "      <td>1.000000</td>\n",
       "    </tr>\n",
       "  </tbody>\n",
       "</table>\n",
       "</div>"
      ],
      "text/plain": [
       "                       user  y_hat_NGR  y_hat_GGR  y_hat_stake_ratio  \\\n",
       "user               1.000000  -0.013887  -0.012368           0.007938   \n",
       "y_hat_NGR         -0.013887   1.000000   0.998221           0.755509   \n",
       "y_hat_GGR         -0.012368   0.998221   1.000000           0.756778   \n",
       "y_hat_stake_ratio  0.007938   0.755509   0.756778           1.000000   \n",
       "GGR_y             -0.037082   0.728748   0.736266           0.569462   \n",
       "NGR_y             -0.037124   0.727984   0.733278           0.567028   \n",
       "Stake_ratio_y     -0.015652   0.712438   0.715824           0.906752   \n",
       "\n",
       "                      GGR_y     NGR_y  Stake_ratio_y  \n",
       "user              -0.037082 -0.037124      -0.015652  \n",
       "y_hat_NGR          0.728748  0.727984       0.712438  \n",
       "y_hat_GGR          0.736266  0.733278       0.715824  \n",
       "y_hat_stake_ratio  0.569462  0.567028       0.906752  \n",
       "GGR_y              1.000000  0.997728       0.620521  \n",
       "NGR_y              0.997728  1.000000       0.610961  \n",
       "Stake_ratio_y      0.620521  0.610961       1.000000  "
      ]
     },
     "execution_count": 126,
     "metadata": {},
     "output_type": "execute_result"
    }
   ],
   "source": [
    "arima_pred_df.corr()"
   ]
  },
  {
   "cell_type": "code",
   "execution_count": 100,
   "metadata": {},
   "outputs": [],
   "source": [
    "#arima_pred=arima_pred_df[['user','y_hat_NGR','y_hat_GGR','y_hat_stake_ratio']]\n",
    "#arima_pred.shape"
   ]
  },
  {
   "cell_type": "code",
   "execution_count": 107,
   "metadata": {},
   "outputs": [],
   "source": [
    "arima_pred=arima_pred.rename(columns={'y_hat_NGR':'y_hat_ngr','y_hat_GGR':'y_hat_ggr','y_hat_stake_ratio':'y_hat_r'})"
   ]
  },
  {
   "cell_type": "code",
   "execution_count": 108,
   "metadata": {},
   "outputs": [
    {
     "ename": "NameError",
     "evalue": "name 'svm_pred' is not defined",
     "output_type": "error",
     "traceback": [
      "\u001b[1;31m---------------------------------------------------------------------------\u001b[0m",
      "\u001b[1;31mNameError\u001b[0m                                 Traceback (most recent call last)",
      "\u001b[1;32m<ipython-input-108-2bbfcefc7c0d>\u001b[0m in \u001b[0;36m<module>\u001b[1;34m\u001b[0m\n\u001b[1;32m----> 1\u001b[1;33m \u001b[0mTotal_pred\u001b[0m\u001b[1;33m=\u001b[0m\u001b[0mpd\u001b[0m\u001b[1;33m.\u001b[0m\u001b[0mconcat\u001b[0m\u001b[1;33m(\u001b[0m\u001b[1;33m[\u001b[0m\u001b[0msvm_pred\u001b[0m\u001b[1;33m,\u001b[0m\u001b[0marima_pred\u001b[0m\u001b[1;33m,\u001b[0m\u001b[0mdf_ex\u001b[0m\u001b[1;33m]\u001b[0m\u001b[1;33m)\u001b[0m\u001b[1;33m\u001b[0m\u001b[1;33m\u001b[0m\u001b[0m\n\u001b[0m",
      "\u001b[1;31mNameError\u001b[0m: name 'svm_pred' is not defined"
     ]
    }
   ],
   "source": [
    "Total_pred=pd.concat([svm_pred,arima_pred,df_ex])"
   ]
  },
  {
   "cell_type": "code",
   "execution_count": 290,
   "metadata": {},
   "outputs": [
    {
     "data": {
      "text/plain": [
       "(1175, 2)"
      ]
     },
     "execution_count": 290,
     "metadata": {},
     "output_type": "execute_result"
    }
   ],
   "source": [
    "df_ex.shape"
   ]
  },
  {
   "cell_type": "code",
   "execution_count": 106,
   "metadata": {},
   "outputs": [
    {
     "ename": "NameError",
     "evalue": "name 'Total_pred' is not defined",
     "output_type": "error",
     "traceback": [
      "\u001b[1;31m---------------------------------------------------------------------------\u001b[0m",
      "\u001b[1;31mNameError\u001b[0m                                 Traceback (most recent call last)",
      "\u001b[1;32m<ipython-input-106-48d0f60d444d>\u001b[0m in \u001b[0;36m<module>\u001b[1;34m\u001b[0m\n\u001b[1;32m----> 1\u001b[1;33m \u001b[0mTotal_pred\u001b[0m\u001b[1;33m.\u001b[0m\u001b[0mshape\u001b[0m\u001b[1;33m\u001b[0m\u001b[1;33m\u001b[0m\u001b[0m\n\u001b[0m",
      "\u001b[1;31mNameError\u001b[0m: name 'Total_pred' is not defined"
     ]
    }
   ],
   "source": [
    "Total_pred.shape"
   ]
  },
  {
   "cell_type": "code",
   "execution_count": 292,
   "metadata": {},
   "outputs": [
    {
     "data": {
      "text/plain": [
       "2000"
      ]
     },
     "execution_count": 292,
     "metadata": {},
     "output_type": "execute_result"
    }
   ],
   "source": [
    "len(df['user_id'].unique())"
   ]
  },
  {
   "cell_type": "code",
   "execution_count": 293,
   "metadata": {},
   "outputs": [
    {
     "data": {
      "text/plain": [
       "2000"
      ]
     },
     "execution_count": 293,
     "metadata": {},
     "output_type": "execute_result"
    }
   ],
   "source": [
    "len(Total_pred['user'].unique())"
   ]
  },
  {
   "cell_type": "code",
   "execution_count": 294,
   "metadata": {},
   "outputs": [],
   "source": [
    "Total_pred.to_csv(r'C:\\Users\\kobi_z\\Documents\\Data Science\\Simpool Projects\\Total Predication exog.csv')"
   ]
  },
  {
   "cell_type": "code",
   "execution_count": 1,
   "metadata": {},
   "outputs": [
    {
     "ename": "NameError",
     "evalue": "name 'Total_pred' is not defined",
     "output_type": "error",
     "traceback": [
      "\u001b[1;31m---------------------------------------------------------------------------\u001b[0m",
      "\u001b[1;31mNameError\u001b[0m                                 Traceback (most recent call last)",
      "\u001b[1;32m<ipython-input-1-b3fca3106013>\u001b[0m in \u001b[0;36m<module>\u001b[1;34m\u001b[0m\n\u001b[1;32m----> 1\u001b[1;33m \u001b[0mTotal_pred\u001b[0m\u001b[1;33m.\u001b[0m\u001b[0mhead\u001b[0m\u001b[1;33m(\u001b[0m\u001b[1;33m)\u001b[0m\u001b[1;33m\u001b[0m\u001b[1;33m\u001b[0m\u001b[0m\n\u001b[0m",
      "\u001b[1;31mNameError\u001b[0m: name 'Total_pred' is not defined"
     ]
    }
   ],
   "source": [
    "Total_pred.head()"
   ]
  },
  {
   "cell_type": "code",
   "execution_count": null,
   "metadata": {},
   "outputs": [],
   "source": []
  }
 ],
 "metadata": {
  "kernelspec": {
   "display_name": "Python 3",
   "language": "python",
   "name": "python3"
  },
  "language_info": {
   "codemirror_mode": {
    "name": "ipython",
    "version": 3
   },
   "file_extension": ".py",
   "mimetype": "text/x-python",
   "name": "python",
   "nbconvert_exporter": "python",
   "pygments_lexer": "ipython3",
   "version": "3.7.6"
  }
 },
 "nbformat": 4,
 "nbformat_minor": 4
}
